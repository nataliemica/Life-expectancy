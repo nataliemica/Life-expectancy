{
 "cells": [
  {
   "cell_type": "code",
   "execution_count": 6,
   "metadata": {},
   "outputs": [],
   "source": [
    "import pandas as pd\n",
    "import numpy as np\n",
    "from scipy import stats\n",
    "import matplotlib.pyplot as plt\n",
    "import seaborn as sb\n",
    "\n",
    "# for cute, interactive plots\n",
    "import plotly.express as px\n",
    "\n",
    "# for converting country names into numerical values and continent codes\n",
    "from pycountry_convert import country_alpha2_to_continent_code, country_name_to_country_alpha2"
   ]
  },
  {
   "cell_type": "code",
   "execution_count": 8,
   "metadata": {},
   "outputs": [
    {
     "data": {
      "text/html": [
       "<div>\n",
       "<style scoped>\n",
       "    .dataframe tbody tr th:only-of-type {\n",
       "        vertical-align: middle;\n",
       "    }\n",
       "\n",
       "    .dataframe tbody tr th {\n",
       "        vertical-align: top;\n",
       "    }\n",
       "\n",
       "    .dataframe thead th {\n",
       "        text-align: right;\n",
       "    }\n",
       "</style>\n",
       "<table border=\"1\" class=\"dataframe\">\n",
       "  <thead>\n",
       "    <tr style=\"text-align: right;\">\n",
       "      <th></th>\n",
       "      <th>Country</th>\n",
       "      <th>Year</th>\n",
       "      <th>Status</th>\n",
       "      <th>Life_expectancy</th>\n",
       "      <th>Adult Mortality</th>\n",
       "      <th>infant deaths</th>\n",
       "      <th>Alcohol</th>\n",
       "      <th>percentage expenditure</th>\n",
       "      <th>Hepatitis B</th>\n",
       "      <th>Measles</th>\n",
       "      <th>...</th>\n",
       "      <th>Polio</th>\n",
       "      <th>Total expenditure</th>\n",
       "      <th>Diphtheria</th>\n",
       "      <th>HIV/AIDS</th>\n",
       "      <th>GDP</th>\n",
       "      <th>Population</th>\n",
       "      <th>thinness  1-19 years</th>\n",
       "      <th>thinness 5-9 years</th>\n",
       "      <th>Income composition of resources</th>\n",
       "      <th>Schooling</th>\n",
       "    </tr>\n",
       "  </thead>\n",
       "  <tbody>\n",
       "    <tr>\n",
       "      <th>0</th>\n",
       "      <td>Afghanistan</td>\n",
       "      <td>2015</td>\n",
       "      <td>Developing</td>\n",
       "      <td>65.0</td>\n",
       "      <td>263.0</td>\n",
       "      <td>62</td>\n",
       "      <td>0.01</td>\n",
       "      <td>71.279624</td>\n",
       "      <td>65.0</td>\n",
       "      <td>1154</td>\n",
       "      <td>...</td>\n",
       "      <td>6.0</td>\n",
       "      <td>8.16</td>\n",
       "      <td>65.0</td>\n",
       "      <td>0.1</td>\n",
       "      <td>584.259210</td>\n",
       "      <td>33736494.0</td>\n",
       "      <td>17.2</td>\n",
       "      <td>17.3</td>\n",
       "      <td>0.479</td>\n",
       "      <td>10.1</td>\n",
       "    </tr>\n",
       "    <tr>\n",
       "      <th>1</th>\n",
       "      <td>Afghanistan</td>\n",
       "      <td>2014</td>\n",
       "      <td>Developing</td>\n",
       "      <td>59.9</td>\n",
       "      <td>271.0</td>\n",
       "      <td>64</td>\n",
       "      <td>0.01</td>\n",
       "      <td>73.523582</td>\n",
       "      <td>62.0</td>\n",
       "      <td>492</td>\n",
       "      <td>...</td>\n",
       "      <td>58.0</td>\n",
       "      <td>8.18</td>\n",
       "      <td>62.0</td>\n",
       "      <td>0.1</td>\n",
       "      <td>612.696514</td>\n",
       "      <td>327582.0</td>\n",
       "      <td>17.5</td>\n",
       "      <td>17.5</td>\n",
       "      <td>0.476</td>\n",
       "      <td>10.0</td>\n",
       "    </tr>\n",
       "    <tr>\n",
       "      <th>2</th>\n",
       "      <td>Afghanistan</td>\n",
       "      <td>2013</td>\n",
       "      <td>Developing</td>\n",
       "      <td>59.9</td>\n",
       "      <td>268.0</td>\n",
       "      <td>66</td>\n",
       "      <td>0.01</td>\n",
       "      <td>73.219243</td>\n",
       "      <td>64.0</td>\n",
       "      <td>430</td>\n",
       "      <td>...</td>\n",
       "      <td>62.0</td>\n",
       "      <td>8.13</td>\n",
       "      <td>64.0</td>\n",
       "      <td>0.1</td>\n",
       "      <td>631.744976</td>\n",
       "      <td>31731688.0</td>\n",
       "      <td>17.7</td>\n",
       "      <td>17.7</td>\n",
       "      <td>0.470</td>\n",
       "      <td>9.9</td>\n",
       "    </tr>\n",
       "    <tr>\n",
       "      <th>3</th>\n",
       "      <td>Afghanistan</td>\n",
       "      <td>2012</td>\n",
       "      <td>Developing</td>\n",
       "      <td>59.5</td>\n",
       "      <td>272.0</td>\n",
       "      <td>69</td>\n",
       "      <td>0.01</td>\n",
       "      <td>78.184215</td>\n",
       "      <td>67.0</td>\n",
       "      <td>2787</td>\n",
       "      <td>...</td>\n",
       "      <td>67.0</td>\n",
       "      <td>8.52</td>\n",
       "      <td>67.0</td>\n",
       "      <td>0.1</td>\n",
       "      <td>669.959000</td>\n",
       "      <td>3696958.0</td>\n",
       "      <td>17.9</td>\n",
       "      <td>18.0</td>\n",
       "      <td>0.463</td>\n",
       "      <td>9.8</td>\n",
       "    </tr>\n",
       "    <tr>\n",
       "      <th>4</th>\n",
       "      <td>Afghanistan</td>\n",
       "      <td>2011</td>\n",
       "      <td>Developing</td>\n",
       "      <td>59.2</td>\n",
       "      <td>275.0</td>\n",
       "      <td>71</td>\n",
       "      <td>0.01</td>\n",
       "      <td>7.097109</td>\n",
       "      <td>68.0</td>\n",
       "      <td>3013</td>\n",
       "      <td>...</td>\n",
       "      <td>68.0</td>\n",
       "      <td>7.87</td>\n",
       "      <td>68.0</td>\n",
       "      <td>0.1</td>\n",
       "      <td>63.537231</td>\n",
       "      <td>2978599.0</td>\n",
       "      <td>18.2</td>\n",
       "      <td>18.2</td>\n",
       "      <td>0.454</td>\n",
       "      <td>9.5</td>\n",
       "    </tr>\n",
       "  </tbody>\n",
       "</table>\n",
       "<p>5 rows × 22 columns</p>\n",
       "</div>"
      ],
      "text/plain": [
       "       Country  Year      Status  Life_expectancy   Adult Mortality  \\\n",
       "0  Afghanistan  2015  Developing              65.0            263.0   \n",
       "1  Afghanistan  2014  Developing              59.9            271.0   \n",
       "2  Afghanistan  2013  Developing              59.9            268.0   \n",
       "3  Afghanistan  2012  Developing              59.5            272.0   \n",
       "4  Afghanistan  2011  Developing              59.2            275.0   \n",
       "\n",
       "   infant deaths  Alcohol  percentage expenditure  Hepatitis B  Measles   ...  \\\n",
       "0             62     0.01               71.279624         65.0      1154  ...   \n",
       "1             64     0.01               73.523582         62.0       492  ...   \n",
       "2             66     0.01               73.219243         64.0       430  ...   \n",
       "3             69     0.01               78.184215         67.0      2787  ...   \n",
       "4             71     0.01                7.097109         68.0      3013  ...   \n",
       "\n",
       "   Polio  Total expenditure  Diphtheria    HIV/AIDS         GDP  Population  \\\n",
       "0    6.0               8.16         65.0        0.1  584.259210  33736494.0   \n",
       "1   58.0               8.18         62.0        0.1  612.696514    327582.0   \n",
       "2   62.0               8.13         64.0        0.1  631.744976  31731688.0   \n",
       "3   67.0               8.52         67.0        0.1  669.959000   3696958.0   \n",
       "4   68.0               7.87         68.0        0.1   63.537231   2978599.0   \n",
       "\n",
       "    thinness  1-19 years   thinness 5-9 years  \\\n",
       "0                   17.2                 17.3   \n",
       "1                   17.5                 17.5   \n",
       "2                   17.7                 17.7   \n",
       "3                   17.9                 18.0   \n",
       "4                   18.2                 18.2   \n",
       "\n",
       "   Income composition of resources  Schooling  \n",
       "0                            0.479       10.1  \n",
       "1                            0.476       10.0  \n",
       "2                            0.470        9.9  \n",
       "3                            0.463        9.8  \n",
       "4                            0.454        9.5  \n",
       "\n",
       "[5 rows x 22 columns]"
      ]
     },
     "execution_count": 8,
     "metadata": {},
     "output_type": "execute_result"
    }
   ],
   "source": [
    "data = pd.read_csv('C:/Users/Natalie/Dropbox/Python_code/Datasets/LE_data.csv')\n",
    "data.head()"
   ]
  },
  {
   "cell_type": "code",
   "execution_count": 9,
   "metadata": {},
   "outputs": [
    {
     "data": {
      "text/plain": [
       "Index(['Country', 'Year', 'Status', 'Life_expectancy ', 'Adult Mortality',\n",
       "       'infant deaths', 'Alcohol', 'percentage expenditure', 'Hepatitis B',\n",
       "       'Measles ', ' BMI ', 'under-five deaths ', 'Polio', 'Total expenditure',\n",
       "       'Diphtheria ', ' HIV/AIDS', 'GDP', 'Population',\n",
       "       ' thinness  1-19 years', ' thinness 5-9 years',\n",
       "       'Income composition of resources', 'Schooling'],\n",
       "      dtype='object')"
      ]
     },
     "execution_count": 9,
     "metadata": {},
     "output_type": "execute_result"
    }
   ],
   "source": [
    "data.columns"
   ]
  },
  {
   "cell_type": "code",
   "execution_count": 10,
   "metadata": {},
   "outputs": [
    {
     "data": {
      "text/html": [
       "<div>\n",
       "<style scoped>\n",
       "    .dataframe tbody tr th:only-of-type {\n",
       "        vertical-align: middle;\n",
       "    }\n",
       "\n",
       "    .dataframe tbody tr th {\n",
       "        vertical-align: top;\n",
       "    }\n",
       "\n",
       "    .dataframe thead th {\n",
       "        text-align: right;\n",
       "    }\n",
       "</style>\n",
       "<table border=\"1\" class=\"dataframe\">\n",
       "  <thead>\n",
       "    <tr style=\"text-align: right;\">\n",
       "      <th></th>\n",
       "      <th>Year</th>\n",
       "      <th>Life_expectancy</th>\n",
       "      <th>Adult Mortality</th>\n",
       "      <th>infant deaths</th>\n",
       "      <th>Alcohol</th>\n",
       "      <th>percentage expenditure</th>\n",
       "      <th>Hepatitis B</th>\n",
       "      <th>Measles</th>\n",
       "      <th>BMI</th>\n",
       "      <th>under-five deaths</th>\n",
       "      <th>Polio</th>\n",
       "      <th>Total expenditure</th>\n",
       "      <th>Diphtheria</th>\n",
       "      <th>HIV/AIDS</th>\n",
       "      <th>GDP</th>\n",
       "      <th>Population</th>\n",
       "      <th>thinness  1-19 years</th>\n",
       "      <th>thinness 5-9 years</th>\n",
       "      <th>Income composition of resources</th>\n",
       "      <th>Schooling</th>\n",
       "    </tr>\n",
       "    <tr>\n",
       "      <th>Country</th>\n",
       "      <th></th>\n",
       "      <th></th>\n",
       "      <th></th>\n",
       "      <th></th>\n",
       "      <th></th>\n",
       "      <th></th>\n",
       "      <th></th>\n",
       "      <th></th>\n",
       "      <th></th>\n",
       "      <th></th>\n",
       "      <th></th>\n",
       "      <th></th>\n",
       "      <th></th>\n",
       "      <th></th>\n",
       "      <th></th>\n",
       "      <th></th>\n",
       "      <th></th>\n",
       "      <th></th>\n",
       "      <th></th>\n",
       "      <th></th>\n",
       "    </tr>\n",
       "  </thead>\n",
       "  <tbody>\n",
       "    <tr>\n",
       "      <th>Afghanistan</th>\n",
       "      <td>2007.5</td>\n",
       "      <td>58.19375</td>\n",
       "      <td>269.0625</td>\n",
       "      <td>78.2500</td>\n",
       "      <td>0.014375</td>\n",
       "      <td>34.960110</td>\n",
       "      <td>64.562500</td>\n",
       "      <td>2362.2500</td>\n",
       "      <td>15.51875</td>\n",
       "      <td>107.5625</td>\n",
       "      <td>48.3750</td>\n",
       "      <td>8.252500</td>\n",
       "      <td>52.3125</td>\n",
       "      <td>0.10000</td>\n",
       "      <td>340.015425</td>\n",
       "      <td>9.972260e+06</td>\n",
       "      <td>16.58125</td>\n",
       "      <td>15.58125</td>\n",
       "      <td>0.415375</td>\n",
       "      <td>8.21250</td>\n",
       "    </tr>\n",
       "    <tr>\n",
       "      <th>Albania</th>\n",
       "      <td>2007.5</td>\n",
       "      <td>75.15625</td>\n",
       "      <td>45.0625</td>\n",
       "      <td>0.6875</td>\n",
       "      <td>4.848750</td>\n",
       "      <td>193.259091</td>\n",
       "      <td>98.000000</td>\n",
       "      <td>53.3750</td>\n",
       "      <td>49.06875</td>\n",
       "      <td>0.9375</td>\n",
       "      <td>98.1250</td>\n",
       "      <td>5.945625</td>\n",
       "      <td>98.0625</td>\n",
       "      <td>0.10000</td>\n",
       "      <td>2119.726679</td>\n",
       "      <td>6.969116e+05</td>\n",
       "      <td>1.61875</td>\n",
       "      <td>1.70000</td>\n",
       "      <td>0.709875</td>\n",
       "      <td>12.13750</td>\n",
       "    </tr>\n",
       "    <tr>\n",
       "      <th>Algeria</th>\n",
       "      <td>2007.5</td>\n",
       "      <td>73.61875</td>\n",
       "      <td>108.1875</td>\n",
       "      <td>20.3125</td>\n",
       "      <td>0.406667</td>\n",
       "      <td>236.185241</td>\n",
       "      <td>78.000000</td>\n",
       "      <td>1943.8750</td>\n",
       "      <td>48.74375</td>\n",
       "      <td>23.5000</td>\n",
       "      <td>91.7500</td>\n",
       "      <td>4.604000</td>\n",
       "      <td>91.8750</td>\n",
       "      <td>0.10000</td>\n",
       "      <td>2847.853392</td>\n",
       "      <td>2.164983e+07</td>\n",
       "      <td>6.09375</td>\n",
       "      <td>5.97500</td>\n",
       "      <td>0.694875</td>\n",
       "      <td>12.71250</td>\n",
       "    </tr>\n",
       "    <tr>\n",
       "      <th>Angola</th>\n",
       "      <td>2007.5</td>\n",
       "      <td>49.01875</td>\n",
       "      <td>328.5625</td>\n",
       "      <td>83.7500</td>\n",
       "      <td>5.740667</td>\n",
       "      <td>102.100268</td>\n",
       "      <td>70.222222</td>\n",
       "      <td>3561.3125</td>\n",
       "      <td>18.01875</td>\n",
       "      <td>132.6250</td>\n",
       "      <td>46.1250</td>\n",
       "      <td>3.919333</td>\n",
       "      <td>47.6875</td>\n",
       "      <td>2.36875</td>\n",
       "      <td>1975.143045</td>\n",
       "      <td>1.014710e+07</td>\n",
       "      <td>6.19375</td>\n",
       "      <td>6.66875</td>\n",
       "      <td>0.458375</td>\n",
       "      <td>8.04375</td>\n",
       "    </tr>\n",
       "    <tr>\n",
       "      <th>Antigua and Barbuda</th>\n",
       "      <td>2007.5</td>\n",
       "      <td>75.05625</td>\n",
       "      <td>127.5000</td>\n",
       "      <td>0.0000</td>\n",
       "      <td>7.949333</td>\n",
       "      <td>1001.585226</td>\n",
       "      <td>98.266667</td>\n",
       "      <td>0.0000</td>\n",
       "      <td>38.42500</td>\n",
       "      <td>0.0000</td>\n",
       "      <td>96.9375</td>\n",
       "      <td>4.791333</td>\n",
       "      <td>98.3125</td>\n",
       "      <td>0.12500</td>\n",
       "      <td>9759.305728</td>\n",
       "      <td>NaN</td>\n",
       "      <td>3.42500</td>\n",
       "      <td>3.37500</td>\n",
       "      <td>0.488625</td>\n",
       "      <td>8.84375</td>\n",
       "    </tr>\n",
       "  </tbody>\n",
       "</table>\n",
       "</div>"
      ],
      "text/plain": [
       "                       Year  Life_expectancy   Adult Mortality  infant deaths  \\\n",
       "Country                                                                         \n",
       "Afghanistan          2007.5          58.19375         269.0625        78.2500   \n",
       "Albania              2007.5          75.15625          45.0625         0.6875   \n",
       "Algeria              2007.5          73.61875         108.1875        20.3125   \n",
       "Angola               2007.5          49.01875         328.5625        83.7500   \n",
       "Antigua and Barbuda  2007.5          75.05625         127.5000         0.0000   \n",
       "\n",
       "                      Alcohol  percentage expenditure  Hepatitis B   Measles   \\\n",
       "Country                                                                         \n",
       "Afghanistan          0.014375               34.960110    64.562500  2362.2500   \n",
       "Albania              4.848750              193.259091    98.000000    53.3750   \n",
       "Algeria              0.406667              236.185241    78.000000  1943.8750   \n",
       "Angola               5.740667              102.100268    70.222222  3561.3125   \n",
       "Antigua and Barbuda  7.949333             1001.585226    98.266667     0.0000   \n",
       "\n",
       "                         BMI   under-five deaths     Polio  Total expenditure  \\\n",
       "Country                                                                         \n",
       "Afghanistan          15.51875            107.5625  48.3750           8.252500   \n",
       "Albania              49.06875              0.9375  98.1250           5.945625   \n",
       "Algeria              48.74375             23.5000  91.7500           4.604000   \n",
       "Angola               18.01875            132.6250  46.1250           3.919333   \n",
       "Antigua and Barbuda  38.42500              0.0000  96.9375           4.791333   \n",
       "\n",
       "                     Diphtheria    HIV/AIDS          GDP    Population  \\\n",
       "Country                                                                  \n",
       "Afghanistan              52.3125    0.10000   340.015425  9.972260e+06   \n",
       "Albania                  98.0625    0.10000  2119.726679  6.969116e+05   \n",
       "Algeria                  91.8750    0.10000  2847.853392  2.164983e+07   \n",
       "Angola                   47.6875    2.36875  1975.143045  1.014710e+07   \n",
       "Antigua and Barbuda      98.3125    0.12500  9759.305728           NaN   \n",
       "\n",
       "                      thinness  1-19 years   thinness 5-9 years  \\\n",
       "Country                                                           \n",
       "Afghanistan                       16.58125             15.58125   \n",
       "Albania                            1.61875              1.70000   \n",
       "Algeria                            6.09375              5.97500   \n",
       "Angola                             6.19375              6.66875   \n",
       "Antigua and Barbuda                3.42500              3.37500   \n",
       "\n",
       "                     Income composition of resources  Schooling  \n",
       "Country                                                          \n",
       "Afghanistan                                 0.415375    8.21250  \n",
       "Albania                                     0.709875   12.13750  \n",
       "Algeria                                     0.694875   12.71250  \n",
       "Angola                                      0.458375    8.04375  \n",
       "Antigua and Barbuda                         0.488625    8.84375  "
      ]
     },
     "execution_count": 10,
     "metadata": {},
     "output_type": "execute_result"
    }
   ],
   "source": [
    "group_by_country = data.groupby('Country', as_index=[False]).mean()\n",
    "group_by_country.head()"
   ]
  },
  {
   "cell_type": "code",
   "execution_count": 11,
   "metadata": {},
   "outputs": [
    {
     "data": {
      "text/plain": [
       "Country\n",
       "Japan          82.53750\n",
       "Sweden         82.51875\n",
       "Iceland        82.44375\n",
       "Switzerland    82.33125\n",
       "France         82.21875\n",
       "Italy          82.18750\n",
       "Spain          82.06875\n",
       "Australia      81.81250\n",
       "Norway         81.79375\n",
       "Canada         81.68750\n",
       "Name: Life_expectancy , dtype: float64"
      ]
     },
     "execution_count": 11,
     "metadata": {},
     "output_type": "execute_result"
    }
   ],
   "source": [
    "group_by_country['Life_expectancy '].sort_values(ascending=[False]).head(10)"
   ]
  },
  {
   "cell_type": "code",
   "execution_count": 12,
   "metadata": {},
   "outputs": [
    {
     "data": {
      "text/plain": [
       "Country\n",
       "Sierra Leone                46.11250\n",
       "Central African Republic    48.51250\n",
       "Lesotho                     48.78125\n",
       "Angola                      49.01875\n",
       "Malawi                      49.89375\n",
       "Chad                        50.38750\n",
       "Côte d'Ivoire               50.38750\n",
       "Zimbabwe                    50.48750\n",
       "Swaziland                   51.32500\n",
       "Nigeria                     51.35625\n",
       "Name: Life_expectancy , dtype: float64"
      ]
     },
     "execution_count": 12,
     "metadata": {},
     "output_type": "execute_result"
    }
   ],
   "source": [
    "group_by_country['Life_expectancy '].sort_values(ascending=[True]).head(10)"
   ]
  },
  {
   "cell_type": "code",
   "execution_count": 18,
   "metadata": {},
   "outputs": [
    {
     "data": {
      "application/vnd.plotly.v1+json": {
       "config": {
        "plotlyServerURL": "https://plot.ly"
       },
       "data": [
        {
         "hovertemplate": "<b>%{hovertext}</b><br><br>GDP=%{x}<br>Life_expectancy =%{y}<br>Population=%{marker.size}<extra></extra>",
         "hovertext": [
          "Afghanistan",
          "Albania",
          "Algeria",
          "Angola",
          "Argentina",
          "Armenia",
          "Australia",
          "Austria",
          "Azerbaijan",
          "Bangladesh",
          "Belarus",
          "Belgium",
          "Belize",
          "Benin",
          "Bhutan",
          "Bosnia and Herzegovina",
          "Botswana",
          "Brazil",
          "Bulgaria",
          "Burkina Faso",
          "Burundi",
          "Cabo Verde",
          "Cambodia",
          "Cameroon",
          "Canada",
          "Central African Republic",
          "Chad",
          "Chile",
          "China",
          "Colombia",
          "Comoros",
          "Costa Rica",
          "Croatia",
          "Cyprus",
          "Denmark",
          "Djibouti",
          "Dominican Republic",
          "Ecuador",
          "El Salvador",
          "Equatorial Guinea",
          "Eritrea",
          "Estonia",
          "Ethiopia",
          "Fiji",
          "Finland",
          "France",
          "Gabon",
          "Georgia",
          "Germany",
          "Ghana",
          "Greece",
          "Guatemala",
          "Guinea",
          "Guinea-Bissau",
          "Guyana",
          "Haiti",
          "Honduras",
          "Hungary",
          "Iceland",
          "India",
          "Indonesia",
          "Iraq",
          "Ireland",
          "Israel",
          "Italy",
          "Jamaica",
          "Japan",
          "Jordan",
          "Kazakhstan",
          "Kenya",
          "Kiribati",
          "Latvia",
          "Lebanon",
          "Lesotho",
          "Liberia",
          "Lithuania",
          "Luxembourg",
          "Madagascar",
          "Malawi",
          "Malaysia",
          "Maldives",
          "Mali",
          "Malta",
          "Mauritania",
          "Mauritius",
          "Mexico",
          "Mongolia",
          "Montenegro",
          "Morocco",
          "Mozambique",
          "Myanmar",
          "Namibia",
          "Nepal",
          "Netherlands",
          "Nicaragua",
          "Niger",
          "Nigeria",
          "Norway",
          "Pakistan",
          "Panama",
          "Papua New Guinea",
          "Paraguay",
          "Peru",
          "Philippines",
          "Poland",
          "Portugal",
          "Romania",
          "Russian Federation",
          "Rwanda",
          "Samoa",
          "Sao Tome and Principe",
          "Senegal",
          "Serbia",
          "Seychelles",
          "Sierra Leone",
          "Slovenia",
          "Solomon Islands",
          "South Africa",
          "South Sudan",
          "Spain",
          "Sri Lanka",
          "Sudan",
          "Suriname",
          "Swaziland",
          "Sweden",
          "Switzerland",
          "Syrian Arab Republic",
          "Tajikistan",
          "Thailand",
          "Timor-Leste",
          "Togo",
          "Tonga",
          "Trinidad and Tobago",
          "Tunisia",
          "Turkey",
          "Turkmenistan",
          "Uganda",
          "Ukraine",
          "Uruguay",
          "Uzbekistan",
          "Vanuatu",
          "Zambia",
          "Zimbabwe"
         ],
         "legendgroup": "",
         "marker": {
          "color": "#636efa",
          "size": [
           9972259.8125,
           696911.625,
           21649827.4375,
           10147099.1875,
           20121204.5,
           1015164.625,
           4587009.875,
           6474879.875,
           2157370.5,
           42985163.875,
           6371866.8125,
           2884042.5625,
           170392.875,
           3942978.9375,
           492584.9375,
           1986993.0625,
           1063867.375,
           88128071.25,
           5290923.9375,
           6143694.8125,
           3915446.6875,
           292600.25,
           7145967.4375,
           9967291.9375,
           11364053.8125,
           2016546.125,
           4114092.0625,
           14671763.9375,
           321812.0625,
           31767432.625,
           532200.6875,
           2309299.4375,
           1159772.375,
           390274.375,
           4260081.375,
           634116.1875,
           4448642.6875,
           8710592.0625,
           2930826.5,
           556765.3125,
           2071919.3333333333,
           791848.6875,
           43950760.75,
           650205.125,
           3493082.3125,
           27581733.125,
           1007302.3125,
           10152.375,
           38757347.4375,
           11534782.625,
           1550208.4375,
           5933907.5,
           4252798.9375,
           981883.1875,
           494437.25,
           3852657.6875,
           2832386.5625,
           1604902.25,
           186177.625,
           421467690.9375,
           116555259.4375,
           18572840.8125,
           3599794.5625,
           27862.875,
           27643788.9375,
           1500309.125,
           97384.0625,
           4895075.6875,
           8340547.4375,
           16826787.625,
           35919.9375,
           1174562.6875,
           2489104.5,
           1200527.5625,
           2788942.625,
           1926212.125,
           265276.375,
           10950267.4375,
           6700263.0625,
           11529155.8125,
           3334.25,
           5781492.875,
           224742.4375,
           1262286.1875,
           663332.875,
           27585265.1875,
           2037470.6875,
           329668.1875,
           20591653.9375,
           11729745.9375,
           26015702,
           1025527.125,
           14633755.5625,
           9775704.375,
           1999846.9375,
           11240718.9375,
           70877003.0625,
           2614432.3125,
           69027961.8125,
           1955021.875,
           4813446,
           3299080.625,
           16854321.6875,
           37265400.3125,
           16053249.625,
           1032225.375,
           9206345.625,
           59762085.625,
           3735506.5625,
           131440.125,
           108853.9375,
           5413842.6875,
           3608279.875,
           61543.8125,
           3336264.5625,
           401279.0625,
           329044.1875,
           29213839.465000004,
           3750827.125,
           26542854.125,
           10844.8125,
           18046515.125,
           190916.625,
           457303.0625,
           5514868.3125,
           5913241.8125,
           6741444.8125,
           4751355,
           31170509.5,
           460195.625,
           3722045.5625,
           26589.8125,
           776133.125,
           3274493.1875,
           33501352.8125,
           2635550.1875,
           15540587.125,
           10004933.25,
           2396771.125,
           903631.6875,
           123096.1875,
           6260246.4375,
           8021343.0625
          ],
          "sizemode": "area",
          "sizeref": 168587.076375,
          "symbol": "circle"
         },
         "mode": "markers",
         "name": "",
         "orientation": "v",
         "showlegend": false,
         "type": "scatter",
         "x": [
          340.01542546875004,
          2119.7266788750003,
          2847.8533923125,
          1975.1430451187498,
          6998.575103125,
          1999.9863176500003,
          34637.565046874995,
          33827.47630875,
          3302.9478069937504,
          443.5614810250001,
          3811.5253479999997,
          16915.305999999997,
          3933.0121744999997,
          561.167968,
          1353.98694560625,
          2245.0260235624996,
          4498.285431187499,
          6143.161793500001,
          4938.981821375001,
          410.3720343125,
          137.81532131875,
          2023.54103925,
          466.19687804999995,
          781.0160044124999,
          29382.907523125003,
          363.05590484999993,
          484.7916940562499,
          6202.344363562499,
          2345.3031576875,
          3321.6607483124994,
          630.38433406875,
          3957.22728625,
          9056.7847190625,
          13898.88550125,
          33067.407915625,
          897.9998706499999,
          3509.4991863125,
          2005.3524679375,
          2517.8346304375,
          7902.4107885625,
          259.3953562916667,
          8340.4329494375,
          264.97094995000003,
          2947.6126888750005,
          25268.649758125,
          26465.551380625,
          5179.2561886250005,
          2158.2808692812496,
          24337.749100000005,
          834.3761008125001,
          16454.23587,
          2365.83447375,
          279.46479789375,
          384.2149305312501,
          1783.8809370625002,
          434.36012815000004,
          1421.7880825000002,
          8513.641831249997,
          30159.502907500006,
          837.9200509125001,
          1669.116783075,
          3542.5575372499993,
          33835.272005,
          18860.476015624998,
          21234.782370625006,
          2509.5464696249996,
          24892.544784375,
          1822.6299256249997,
          4040.586664374999,
          716.77006788125,
          1175.29241553125,
          7951.824896624999,
          4696.1923789375005,
          794.5230103125001,
          246.28174803125006,
          9007.4586225,
          53257.012740624996,
          314.04132958124995,
          237.50404201875,
          4904.9389918125,
          3818.2969615624997,
          530.5121700999999,
          10114.797943125002,
          635.04960900625,
          5299.579823624998,
          5179.33080675,
          1984.6880227125002,
          4676.5142774999995,
          1936.3914383750002,
          365.06823808125,
          616.18435734375,
          3042.6035070000003,
          395.32846794375007,
          34964.719796875,
          957.9039710624999,
          259.782440975,
          1360.1398774687502,
          27434.946928125,
          666.11105159375,
          5417.768890249999,
          758.0976163466668,
          1983.4043354375003,
          2928.5435416249998,
          1397.1361066875002,
          6792.5636004375,
          11598.625531249998,
          4258.9400543125,
          6545.137358999999,
          300.01801709374996,
          2121.6206485000002,
          771.0348342533331,
          274.61116614375004,
          3674.5424077625007,
          6496.302397062499,
          271.50556128125004,
          11441.044377499999,
          801.9123831749998,
          4869.4270436874995,
          1092.233630625,
          17093.459736875,
          1040.110189675,
          1192.7979534312497,
          4781.216821937499,
          2165.0908375000004,
          29334.990639375,
          57362.874601250005,
          1087.435773875,
          335.84172523125017,
          3494.781701625,
          551.7106493125001,
          317.20409206875007,
          1981.5551861874999,
          7741.748090062502,
          3044.081488375,
          3983.9177217499996,
          2511.6115398624997,
          421.04849634374995,
          1577.293328625,
          7192.5848745,
          651.0923589312499,
          2000.2455181250002,
          811.8118405187499,
          410.98019376875
         ],
         "xaxis": "x",
         "y": [
          58.193749999999994,
          75.15624999999999,
          73.61874999999999,
          49.01875,
          75.15624999999999,
          73.39999999999999,
          81.81250000000001,
          81.48124999999999,
          70.73124999999999,
          69.3,
          69.90625,
          80.68124999999999,
          69.26875,
          57.568749999999994,
          66.1625,
          75.96875000000001,
          56.05,
          73.38125,
          72.85,
          55.64374999999999,
          55.537499999999994,
          72.51875,
          64.34375,
          54.01875,
          81.6875,
          48.51250000000001,
          50.3875,
          79.44999999999999,
          74.2625,
          73.28750000000001,
          61.581250000000004,
          78.59374999999999,
          76.11875,
          79.675,
          79.25625000000001,
          60.75625,
          72.34374999999999,
          74.72500000000001,
          71.74375,
          55.3125,
          60.6875,
          74.94375,
          59.11250000000001,
          68.7125,
          80.7125,
          82.21875,
          62.243750000000006,
          73.50625,
          81.175,
          60.8625,
          81.21875,
          71.73125,
          56.0125,
          55.36875,
          65.6375,
          59.868750000000006,
          72.99374999999999,
          73.82499999999999,
          82.44375000000001,
          65.41874999999999,
          67.55625,
          70.35625,
          80.15,
          81.3,
          82.1875,
          74.29375,
          82.5375,
          72.9875,
          66.7625,
          57.481249999999996,
          65.14999999999999,
          73.73125,
          74.2,
          48.78124999999999,
          57.525,
          72.80624999999999,
          80.78125,
          62.74375,
          49.893750000000004,
          73.75625000000001,
          75.5375,
          54.9375,
          80.36250000000001,
          62.8,
          72.7125,
          75.71874999999999,
          65.8875,
          74.5,
          72.15624999999999,
          53.393750000000004,
          64.2,
          60.400000000000006,
          66.48125,
          81.13125,
          73.45,
          56.98125,
          51.35625000000001,
          81.79375,
          64.5,
          76.4875,
          61.68125,
          73.1125,
          73.66250000000001,
          67.57499999999999,
          75.65,
          79.99375,
          74.05000000000001,
          67.76249999999999,
          59.3125,
          73.61875,
          65.1625,
          62.56875,
          73.95625,
          72.37500000000001,
          46.1125,
          79.73125,
          67.7125,
          57.49999999999999,
          53.875,
          82.06875,
          73.4,
          61.825,
          70.08125,
          51.324999999999996,
          82.51875,
          82.33125,
          70.85,
          66.65625,
          73.08125,
          64.75625,
          56.66250000000001,
          72.53124999999999,
          71.06875,
          74.35625000000002,
          73.9125,
          64.61874999999999,
          55.70625,
          69.9375,
          76.075,
          68.03125,
          71.38749999999999,
          53.90624999999999,
          50.48749999999999
         ],
         "yaxis": "y"
        }
       ],
       "layout": {
        "legend": {
         "itemsizing": "constant",
         "tracegroupgap": 0
        },
        "margin": {
         "t": 60
        },
        "template": {
         "data": {
          "bar": [
           {
            "error_x": {
             "color": "#2a3f5f"
            },
            "error_y": {
             "color": "#2a3f5f"
            },
            "marker": {
             "line": {
              "color": "#E5ECF6",
              "width": 0.5
             },
             "pattern": {
              "fillmode": "overlay",
              "size": 10,
              "solidity": 0.2
             }
            },
            "type": "bar"
           }
          ],
          "barpolar": [
           {
            "marker": {
             "line": {
              "color": "#E5ECF6",
              "width": 0.5
             },
             "pattern": {
              "fillmode": "overlay",
              "size": 10,
              "solidity": 0.2
             }
            },
            "type": "barpolar"
           }
          ],
          "carpet": [
           {
            "aaxis": {
             "endlinecolor": "#2a3f5f",
             "gridcolor": "white",
             "linecolor": "white",
             "minorgridcolor": "white",
             "startlinecolor": "#2a3f5f"
            },
            "baxis": {
             "endlinecolor": "#2a3f5f",
             "gridcolor": "white",
             "linecolor": "white",
             "minorgridcolor": "white",
             "startlinecolor": "#2a3f5f"
            },
            "type": "carpet"
           }
          ],
          "choropleth": [
           {
            "colorbar": {
             "outlinewidth": 0,
             "ticks": ""
            },
            "type": "choropleth"
           }
          ],
          "contour": [
           {
            "colorbar": {
             "outlinewidth": 0,
             "ticks": ""
            },
            "colorscale": [
             [
              0,
              "#0d0887"
             ],
             [
              0.1111111111111111,
              "#46039f"
             ],
             [
              0.2222222222222222,
              "#7201a8"
             ],
             [
              0.3333333333333333,
              "#9c179e"
             ],
             [
              0.4444444444444444,
              "#bd3786"
             ],
             [
              0.5555555555555556,
              "#d8576b"
             ],
             [
              0.6666666666666666,
              "#ed7953"
             ],
             [
              0.7777777777777778,
              "#fb9f3a"
             ],
             [
              0.8888888888888888,
              "#fdca26"
             ],
             [
              1,
              "#f0f921"
             ]
            ],
            "type": "contour"
           }
          ],
          "contourcarpet": [
           {
            "colorbar": {
             "outlinewidth": 0,
             "ticks": ""
            },
            "type": "contourcarpet"
           }
          ],
          "heatmap": [
           {
            "colorbar": {
             "outlinewidth": 0,
             "ticks": ""
            },
            "colorscale": [
             [
              0,
              "#0d0887"
             ],
             [
              0.1111111111111111,
              "#46039f"
             ],
             [
              0.2222222222222222,
              "#7201a8"
             ],
             [
              0.3333333333333333,
              "#9c179e"
             ],
             [
              0.4444444444444444,
              "#bd3786"
             ],
             [
              0.5555555555555556,
              "#d8576b"
             ],
             [
              0.6666666666666666,
              "#ed7953"
             ],
             [
              0.7777777777777778,
              "#fb9f3a"
             ],
             [
              0.8888888888888888,
              "#fdca26"
             ],
             [
              1,
              "#f0f921"
             ]
            ],
            "type": "heatmap"
           }
          ],
          "heatmapgl": [
           {
            "colorbar": {
             "outlinewidth": 0,
             "ticks": ""
            },
            "colorscale": [
             [
              0,
              "#0d0887"
             ],
             [
              0.1111111111111111,
              "#46039f"
             ],
             [
              0.2222222222222222,
              "#7201a8"
             ],
             [
              0.3333333333333333,
              "#9c179e"
             ],
             [
              0.4444444444444444,
              "#bd3786"
             ],
             [
              0.5555555555555556,
              "#d8576b"
             ],
             [
              0.6666666666666666,
              "#ed7953"
             ],
             [
              0.7777777777777778,
              "#fb9f3a"
             ],
             [
              0.8888888888888888,
              "#fdca26"
             ],
             [
              1,
              "#f0f921"
             ]
            ],
            "type": "heatmapgl"
           }
          ],
          "histogram": [
           {
            "marker": {
             "pattern": {
              "fillmode": "overlay",
              "size": 10,
              "solidity": 0.2
             }
            },
            "type": "histogram"
           }
          ],
          "histogram2d": [
           {
            "colorbar": {
             "outlinewidth": 0,
             "ticks": ""
            },
            "colorscale": [
             [
              0,
              "#0d0887"
             ],
             [
              0.1111111111111111,
              "#46039f"
             ],
             [
              0.2222222222222222,
              "#7201a8"
             ],
             [
              0.3333333333333333,
              "#9c179e"
             ],
             [
              0.4444444444444444,
              "#bd3786"
             ],
             [
              0.5555555555555556,
              "#d8576b"
             ],
             [
              0.6666666666666666,
              "#ed7953"
             ],
             [
              0.7777777777777778,
              "#fb9f3a"
             ],
             [
              0.8888888888888888,
              "#fdca26"
             ],
             [
              1,
              "#f0f921"
             ]
            ],
            "type": "histogram2d"
           }
          ],
          "histogram2dcontour": [
           {
            "colorbar": {
             "outlinewidth": 0,
             "ticks": ""
            },
            "colorscale": [
             [
              0,
              "#0d0887"
             ],
             [
              0.1111111111111111,
              "#46039f"
             ],
             [
              0.2222222222222222,
              "#7201a8"
             ],
             [
              0.3333333333333333,
              "#9c179e"
             ],
             [
              0.4444444444444444,
              "#bd3786"
             ],
             [
              0.5555555555555556,
              "#d8576b"
             ],
             [
              0.6666666666666666,
              "#ed7953"
             ],
             [
              0.7777777777777778,
              "#fb9f3a"
             ],
             [
              0.8888888888888888,
              "#fdca26"
             ],
             [
              1,
              "#f0f921"
             ]
            ],
            "type": "histogram2dcontour"
           }
          ],
          "mesh3d": [
           {
            "colorbar": {
             "outlinewidth": 0,
             "ticks": ""
            },
            "type": "mesh3d"
           }
          ],
          "parcoords": [
           {
            "line": {
             "colorbar": {
              "outlinewidth": 0,
              "ticks": ""
             }
            },
            "type": "parcoords"
           }
          ],
          "pie": [
           {
            "automargin": true,
            "type": "pie"
           }
          ],
          "scatter": [
           {
            "marker": {
             "colorbar": {
              "outlinewidth": 0,
              "ticks": ""
             }
            },
            "type": "scatter"
           }
          ],
          "scatter3d": [
           {
            "line": {
             "colorbar": {
              "outlinewidth": 0,
              "ticks": ""
             }
            },
            "marker": {
             "colorbar": {
              "outlinewidth": 0,
              "ticks": ""
             }
            },
            "type": "scatter3d"
           }
          ],
          "scattercarpet": [
           {
            "marker": {
             "colorbar": {
              "outlinewidth": 0,
              "ticks": ""
             }
            },
            "type": "scattercarpet"
           }
          ],
          "scattergeo": [
           {
            "marker": {
             "colorbar": {
              "outlinewidth": 0,
              "ticks": ""
             }
            },
            "type": "scattergeo"
           }
          ],
          "scattergl": [
           {
            "marker": {
             "colorbar": {
              "outlinewidth": 0,
              "ticks": ""
             }
            },
            "type": "scattergl"
           }
          ],
          "scattermapbox": [
           {
            "marker": {
             "colorbar": {
              "outlinewidth": 0,
              "ticks": ""
             }
            },
            "type": "scattermapbox"
           }
          ],
          "scatterpolar": [
           {
            "marker": {
             "colorbar": {
              "outlinewidth": 0,
              "ticks": ""
             }
            },
            "type": "scatterpolar"
           }
          ],
          "scatterpolargl": [
           {
            "marker": {
             "colorbar": {
              "outlinewidth": 0,
              "ticks": ""
             }
            },
            "type": "scatterpolargl"
           }
          ],
          "scatterternary": [
           {
            "marker": {
             "colorbar": {
              "outlinewidth": 0,
              "ticks": ""
             }
            },
            "type": "scatterternary"
           }
          ],
          "surface": [
           {
            "colorbar": {
             "outlinewidth": 0,
             "ticks": ""
            },
            "colorscale": [
             [
              0,
              "#0d0887"
             ],
             [
              0.1111111111111111,
              "#46039f"
             ],
             [
              0.2222222222222222,
              "#7201a8"
             ],
             [
              0.3333333333333333,
              "#9c179e"
             ],
             [
              0.4444444444444444,
              "#bd3786"
             ],
             [
              0.5555555555555556,
              "#d8576b"
             ],
             [
              0.6666666666666666,
              "#ed7953"
             ],
             [
              0.7777777777777778,
              "#fb9f3a"
             ],
             [
              0.8888888888888888,
              "#fdca26"
             ],
             [
              1,
              "#f0f921"
             ]
            ],
            "type": "surface"
           }
          ],
          "table": [
           {
            "cells": {
             "fill": {
              "color": "#EBF0F8"
             },
             "line": {
              "color": "white"
             }
            },
            "header": {
             "fill": {
              "color": "#C8D4E3"
             },
             "line": {
              "color": "white"
             }
            },
            "type": "table"
           }
          ]
         },
         "layout": {
          "annotationdefaults": {
           "arrowcolor": "#2a3f5f",
           "arrowhead": 0,
           "arrowwidth": 1
          },
          "autotypenumbers": "strict",
          "coloraxis": {
           "colorbar": {
            "outlinewidth": 0,
            "ticks": ""
           }
          },
          "colorscale": {
           "diverging": [
            [
             0,
             "#8e0152"
            ],
            [
             0.1,
             "#c51b7d"
            ],
            [
             0.2,
             "#de77ae"
            ],
            [
             0.3,
             "#f1b6da"
            ],
            [
             0.4,
             "#fde0ef"
            ],
            [
             0.5,
             "#f7f7f7"
            ],
            [
             0.6,
             "#e6f5d0"
            ],
            [
             0.7,
             "#b8e186"
            ],
            [
             0.8,
             "#7fbc41"
            ],
            [
             0.9,
             "#4d9221"
            ],
            [
             1,
             "#276419"
            ]
           ],
           "sequential": [
            [
             0,
             "#0d0887"
            ],
            [
             0.1111111111111111,
             "#46039f"
            ],
            [
             0.2222222222222222,
             "#7201a8"
            ],
            [
             0.3333333333333333,
             "#9c179e"
            ],
            [
             0.4444444444444444,
             "#bd3786"
            ],
            [
             0.5555555555555556,
             "#d8576b"
            ],
            [
             0.6666666666666666,
             "#ed7953"
            ],
            [
             0.7777777777777778,
             "#fb9f3a"
            ],
            [
             0.8888888888888888,
             "#fdca26"
            ],
            [
             1,
             "#f0f921"
            ]
           ],
           "sequentialminus": [
            [
             0,
             "#0d0887"
            ],
            [
             0.1111111111111111,
             "#46039f"
            ],
            [
             0.2222222222222222,
             "#7201a8"
            ],
            [
             0.3333333333333333,
             "#9c179e"
            ],
            [
             0.4444444444444444,
             "#bd3786"
            ],
            [
             0.5555555555555556,
             "#d8576b"
            ],
            [
             0.6666666666666666,
             "#ed7953"
            ],
            [
             0.7777777777777778,
             "#fb9f3a"
            ],
            [
             0.8888888888888888,
             "#fdca26"
            ],
            [
             1,
             "#f0f921"
            ]
           ]
          },
          "colorway": [
           "#636efa",
           "#EF553B",
           "#00cc96",
           "#ab63fa",
           "#FFA15A",
           "#19d3f3",
           "#FF6692",
           "#B6E880",
           "#FF97FF",
           "#FECB52"
          ],
          "font": {
           "color": "#2a3f5f"
          },
          "geo": {
           "bgcolor": "white",
           "lakecolor": "white",
           "landcolor": "#E5ECF6",
           "showlakes": true,
           "showland": true,
           "subunitcolor": "white"
          },
          "hoverlabel": {
           "align": "left"
          },
          "hovermode": "closest",
          "mapbox": {
           "style": "light"
          },
          "paper_bgcolor": "white",
          "plot_bgcolor": "#E5ECF6",
          "polar": {
           "angularaxis": {
            "gridcolor": "white",
            "linecolor": "white",
            "ticks": ""
           },
           "bgcolor": "#E5ECF6",
           "radialaxis": {
            "gridcolor": "white",
            "linecolor": "white",
            "ticks": ""
           }
          },
          "scene": {
           "xaxis": {
            "backgroundcolor": "#E5ECF6",
            "gridcolor": "white",
            "gridwidth": 2,
            "linecolor": "white",
            "showbackground": true,
            "ticks": "",
            "zerolinecolor": "white"
           },
           "yaxis": {
            "backgroundcolor": "#E5ECF6",
            "gridcolor": "white",
            "gridwidth": 2,
            "linecolor": "white",
            "showbackground": true,
            "ticks": "",
            "zerolinecolor": "white"
           },
           "zaxis": {
            "backgroundcolor": "#E5ECF6",
            "gridcolor": "white",
            "gridwidth": 2,
            "linecolor": "white",
            "showbackground": true,
            "ticks": "",
            "zerolinecolor": "white"
           }
          },
          "shapedefaults": {
           "line": {
            "color": "#2a3f5f"
           }
          },
          "ternary": {
           "aaxis": {
            "gridcolor": "white",
            "linecolor": "white",
            "ticks": ""
           },
           "baxis": {
            "gridcolor": "white",
            "linecolor": "white",
            "ticks": ""
           },
           "bgcolor": "#E5ECF6",
           "caxis": {
            "gridcolor": "white",
            "linecolor": "white",
            "ticks": ""
           }
          },
          "title": {
           "x": 0.05
          },
          "xaxis": {
           "automargin": true,
           "gridcolor": "white",
           "linecolor": "white",
           "ticks": "",
           "title": {
            "standoff": 15
           },
           "zerolinecolor": "white",
           "zerolinewidth": 2
          },
          "yaxis": {
           "automargin": true,
           "gridcolor": "white",
           "linecolor": "white",
           "ticks": "",
           "title": {
            "standoff": 15
           },
           "zerolinecolor": "white",
           "zerolinewidth": 2
          }
         }
        },
        "xaxis": {
         "anchor": "y",
         "domain": [
          0,
          1
         ],
         "title": {
          "text": "GDP"
         },
         "type": "log"
        },
        "yaxis": {
         "anchor": "x",
         "domain": [
          0,
          1
         ],
         "title": {
          "text": "Life_expectancy "
         }
        }
       }
      },
      "text/html": [
       "<div>                            <div id=\"9af2dc50-a8f9-4976-b56d-052ca42cce77\" class=\"plotly-graph-div\" style=\"height:525px; width:100%;\"></div>            <script type=\"text/javascript\">                require([\"plotly\"], function(Plotly) {                    window.PLOTLYENV=window.PLOTLYENV || {};                                    if (document.getElementById(\"9af2dc50-a8f9-4976-b56d-052ca42cce77\")) {                    Plotly.newPlot(                        \"9af2dc50-a8f9-4976-b56d-052ca42cce77\",                        [{\"hovertemplate\":\"<b>%{hovertext}</b><br><br>GDP=%{x}<br>Life_expectancy =%{y}<br>Population=%{marker.size}<extra></extra>\",\"hovertext\":[\"Afghanistan\",\"Albania\",\"Algeria\",\"Angola\",\"Argentina\",\"Armenia\",\"Australia\",\"Austria\",\"Azerbaijan\",\"Bangladesh\",\"Belarus\",\"Belgium\",\"Belize\",\"Benin\",\"Bhutan\",\"Bosnia and Herzegovina\",\"Botswana\",\"Brazil\",\"Bulgaria\",\"Burkina Faso\",\"Burundi\",\"Cabo Verde\",\"Cambodia\",\"Cameroon\",\"Canada\",\"Central African Republic\",\"Chad\",\"Chile\",\"China\",\"Colombia\",\"Comoros\",\"Costa Rica\",\"Croatia\",\"Cyprus\",\"Denmark\",\"Djibouti\",\"Dominican Republic\",\"Ecuador\",\"El Salvador\",\"Equatorial Guinea\",\"Eritrea\",\"Estonia\",\"Ethiopia\",\"Fiji\",\"Finland\",\"France\",\"Gabon\",\"Georgia\",\"Germany\",\"Ghana\",\"Greece\",\"Guatemala\",\"Guinea\",\"Guinea-Bissau\",\"Guyana\",\"Haiti\",\"Honduras\",\"Hungary\",\"Iceland\",\"India\",\"Indonesia\",\"Iraq\",\"Ireland\",\"Israel\",\"Italy\",\"Jamaica\",\"Japan\",\"Jordan\",\"Kazakhstan\",\"Kenya\",\"Kiribati\",\"Latvia\",\"Lebanon\",\"Lesotho\",\"Liberia\",\"Lithuania\",\"Luxembourg\",\"Madagascar\",\"Malawi\",\"Malaysia\",\"Maldives\",\"Mali\",\"Malta\",\"Mauritania\",\"Mauritius\",\"Mexico\",\"Mongolia\",\"Montenegro\",\"Morocco\",\"Mozambique\",\"Myanmar\",\"Namibia\",\"Nepal\",\"Netherlands\",\"Nicaragua\",\"Niger\",\"Nigeria\",\"Norway\",\"Pakistan\",\"Panama\",\"Papua New Guinea\",\"Paraguay\",\"Peru\",\"Philippines\",\"Poland\",\"Portugal\",\"Romania\",\"Russian Federation\",\"Rwanda\",\"Samoa\",\"Sao Tome and Principe\",\"Senegal\",\"Serbia\",\"Seychelles\",\"Sierra Leone\",\"Slovenia\",\"Solomon Islands\",\"South Africa\",\"South Sudan\",\"Spain\",\"Sri Lanka\",\"Sudan\",\"Suriname\",\"Swaziland\",\"Sweden\",\"Switzerland\",\"Syrian Arab Republic\",\"Tajikistan\",\"Thailand\",\"Timor-Leste\",\"Togo\",\"Tonga\",\"Trinidad and Tobago\",\"Tunisia\",\"Turkey\",\"Turkmenistan\",\"Uganda\",\"Ukraine\",\"Uruguay\",\"Uzbekistan\",\"Vanuatu\",\"Zambia\",\"Zimbabwe\"],\"legendgroup\":\"\",\"marker\":{\"color\":\"#636efa\",\"size\":[9972259.8125,696911.625,21649827.4375,10147099.1875,20121204.5,1015164.625,4587009.875,6474879.875,2157370.5,42985163.875,6371866.8125,2884042.5625,170392.875,3942978.9375,492584.9375,1986993.0625,1063867.375,88128071.25,5290923.9375,6143694.8125,3915446.6875,292600.25,7145967.4375,9967291.9375,11364053.8125,2016546.125,4114092.0625,14671763.9375,321812.0625,31767432.625,532200.6875,2309299.4375,1159772.375,390274.375,4260081.375,634116.1875,4448642.6875,8710592.0625,2930826.5,556765.3125,2071919.3333333333,791848.6875,43950760.75,650205.125,3493082.3125,27581733.125,1007302.3125,10152.375,38757347.4375,11534782.625,1550208.4375,5933907.5,4252798.9375,981883.1875,494437.25,3852657.6875,2832386.5625,1604902.25,186177.625,421467690.9375,116555259.4375,18572840.8125,3599794.5625,27862.875,27643788.9375,1500309.125,97384.0625,4895075.6875,8340547.4375,16826787.625,35919.9375,1174562.6875,2489104.5,1200527.5625,2788942.625,1926212.125,265276.375,10950267.4375,6700263.0625,11529155.8125,3334.25,5781492.875,224742.4375,1262286.1875,663332.875,27585265.1875,2037470.6875,329668.1875,20591653.9375,11729745.9375,26015702.0,1025527.125,14633755.5625,9775704.375,1999846.9375,11240718.9375,70877003.0625,2614432.3125,69027961.8125,1955021.875,4813446.0,3299080.625,16854321.6875,37265400.3125,16053249.625,1032225.375,9206345.625,59762085.625,3735506.5625,131440.125,108853.9375,5413842.6875,3608279.875,61543.8125,3336264.5625,401279.0625,329044.1875,29213839.465000004,3750827.125,26542854.125,10844.8125,18046515.125,190916.625,457303.0625,5514868.3125,5913241.8125,6741444.8125,4751355.0,31170509.5,460195.625,3722045.5625,26589.8125,776133.125,3274493.1875,33501352.8125,2635550.1875,15540587.125,10004933.25,2396771.125,903631.6875,123096.1875,6260246.4375,8021343.0625],\"sizemode\":\"area\",\"sizeref\":168587.076375,\"symbol\":\"circle\"},\"mode\":\"markers\",\"name\":\"\",\"orientation\":\"v\",\"showlegend\":false,\"type\":\"scatter\",\"x\":[340.01542546875004,2119.7266788750003,2847.8533923125,1975.1430451187498,6998.575103125,1999.9863176500003,34637.565046874995,33827.47630875,3302.9478069937504,443.5614810250001,3811.5253479999997,16915.305999999997,3933.0121744999997,561.167968,1353.98694560625,2245.0260235624996,4498.285431187499,6143.161793500001,4938.981821375001,410.3720343125,137.81532131875,2023.54103925,466.19687804999995,781.0160044124999,29382.907523125003,363.05590484999993,484.7916940562499,6202.344363562499,2345.3031576875,3321.6607483124994,630.38433406875,3957.22728625,9056.7847190625,13898.88550125,33067.407915625,897.9998706499999,3509.4991863125,2005.3524679375,2517.8346304375,7902.4107885625,259.3953562916667,8340.4329494375,264.97094995000003,2947.6126888750005,25268.649758125,26465.551380625,5179.2561886250005,2158.2808692812496,24337.749100000005,834.3761008125001,16454.23587,2365.83447375,279.46479789375,384.2149305312501,1783.8809370625002,434.36012815000004,1421.7880825000002,8513.641831249997,30159.502907500006,837.9200509125001,1669.116783075,3542.5575372499993,33835.272005,18860.476015624998,21234.782370625006,2509.5464696249996,24892.544784375,1822.6299256249997,4040.586664374999,716.77006788125,1175.29241553125,7951.824896624999,4696.1923789375005,794.5230103125001,246.28174803125006,9007.4586225,53257.012740624996,314.04132958124995,237.50404201875,4904.9389918125,3818.2969615624997,530.5121700999999,10114.797943125002,635.04960900625,5299.579823624998,5179.33080675,1984.6880227125002,4676.5142774999995,1936.3914383750002,365.06823808125,616.18435734375,3042.6035070000003,395.32846794375007,34964.719796875,957.9039710624999,259.782440975,1360.1398774687502,27434.946928125,666.11105159375,5417.768890249999,758.0976163466668,1983.4043354375003,2928.5435416249998,1397.1361066875002,6792.5636004375,11598.625531249998,4258.9400543125,6545.137358999999,300.01801709374996,2121.6206485000002,771.0348342533331,274.61116614375004,3674.5424077625007,6496.302397062499,271.50556128125004,11441.044377499999,801.9123831749998,4869.4270436874995,1092.233630625,17093.459736875,1040.110189675,1192.7979534312497,4781.216821937499,2165.0908375000004,29334.990639375,57362.874601250005,1087.435773875,335.84172523125017,3494.781701625,551.7106493125001,317.20409206875007,1981.5551861874999,7741.748090062502,3044.081488375,3983.9177217499996,2511.6115398624997,421.04849634374995,1577.293328625,7192.5848745,651.0923589312499,2000.2455181250002,811.8118405187499,410.98019376875],\"xaxis\":\"x\",\"y\":[58.193749999999994,75.15624999999999,73.61874999999999,49.01875,75.15624999999999,73.39999999999999,81.81250000000001,81.48124999999999,70.73124999999999,69.3,69.90625,80.68124999999999,69.26875,57.568749999999994,66.1625,75.96875000000001,56.05,73.38125,72.85,55.64374999999999,55.537499999999994,72.51875,64.34375,54.01875,81.6875,48.51250000000001,50.3875,79.44999999999999,74.2625,73.28750000000001,61.581250000000004,78.59374999999999,76.11875,79.675,79.25625000000001,60.75625,72.34374999999999,74.72500000000001,71.74375,55.3125,60.6875,74.94375,59.11250000000001,68.7125,80.7125,82.21875,62.243750000000006,73.50625,81.175,60.8625,81.21875,71.73125,56.0125,55.36875,65.6375,59.868750000000006,72.99374999999999,73.82499999999999,82.44375000000001,65.41874999999999,67.55625,70.35625,80.15,81.3,82.1875,74.29375,82.5375,72.9875,66.7625,57.481249999999996,65.14999999999999,73.73125,74.2,48.78124999999999,57.525,72.80624999999999,80.78125,62.74375,49.893750000000004,73.75625000000001,75.5375,54.9375,80.36250000000001,62.8,72.7125,75.71874999999999,65.8875,74.5,72.15624999999999,53.393750000000004,64.2,60.400000000000006,66.48125,81.13125,73.45,56.98125,51.35625000000001,81.79375,64.5,76.4875,61.68125,73.1125,73.66250000000001,67.57499999999999,75.65,79.99375,74.05000000000001,67.76249999999999,59.3125,73.61875,65.1625,62.56875,73.95625,72.37500000000001,46.1125,79.73125,67.7125,57.49999999999999,53.875,82.06875,73.4,61.825,70.08125,51.324999999999996,82.51875,82.33125,70.85,66.65625,73.08125,64.75625,56.66250000000001,72.53124999999999,71.06875,74.35625000000002,73.9125,64.61874999999999,55.70625,69.9375,76.075,68.03125,71.38749999999999,53.90624999999999,50.48749999999999],\"yaxis\":\"y\"}],                        {\"legend\":{\"itemsizing\":\"constant\",\"tracegroupgap\":0},\"margin\":{\"t\":60},\"template\":{\"data\":{\"bar\":[{\"error_x\":{\"color\":\"#2a3f5f\"},\"error_y\":{\"color\":\"#2a3f5f\"},\"marker\":{\"line\":{\"color\":\"#E5ECF6\",\"width\":0.5},\"pattern\":{\"fillmode\":\"overlay\",\"size\":10,\"solidity\":0.2}},\"type\":\"bar\"}],\"barpolar\":[{\"marker\":{\"line\":{\"color\":\"#E5ECF6\",\"width\":0.5},\"pattern\":{\"fillmode\":\"overlay\",\"size\":10,\"solidity\":0.2}},\"type\":\"barpolar\"}],\"carpet\":[{\"aaxis\":{\"endlinecolor\":\"#2a3f5f\",\"gridcolor\":\"white\",\"linecolor\":\"white\",\"minorgridcolor\":\"white\",\"startlinecolor\":\"#2a3f5f\"},\"baxis\":{\"endlinecolor\":\"#2a3f5f\",\"gridcolor\":\"white\",\"linecolor\":\"white\",\"minorgridcolor\":\"white\",\"startlinecolor\":\"#2a3f5f\"},\"type\":\"carpet\"}],\"choropleth\":[{\"colorbar\":{\"outlinewidth\":0,\"ticks\":\"\"},\"type\":\"choropleth\"}],\"contour\":[{\"colorbar\":{\"outlinewidth\":0,\"ticks\":\"\"},\"colorscale\":[[0.0,\"#0d0887\"],[0.1111111111111111,\"#46039f\"],[0.2222222222222222,\"#7201a8\"],[0.3333333333333333,\"#9c179e\"],[0.4444444444444444,\"#bd3786\"],[0.5555555555555556,\"#d8576b\"],[0.6666666666666666,\"#ed7953\"],[0.7777777777777778,\"#fb9f3a\"],[0.8888888888888888,\"#fdca26\"],[1.0,\"#f0f921\"]],\"type\":\"contour\"}],\"contourcarpet\":[{\"colorbar\":{\"outlinewidth\":0,\"ticks\":\"\"},\"type\":\"contourcarpet\"}],\"heatmap\":[{\"colorbar\":{\"outlinewidth\":0,\"ticks\":\"\"},\"colorscale\":[[0.0,\"#0d0887\"],[0.1111111111111111,\"#46039f\"],[0.2222222222222222,\"#7201a8\"],[0.3333333333333333,\"#9c179e\"],[0.4444444444444444,\"#bd3786\"],[0.5555555555555556,\"#d8576b\"],[0.6666666666666666,\"#ed7953\"],[0.7777777777777778,\"#fb9f3a\"],[0.8888888888888888,\"#fdca26\"],[1.0,\"#f0f921\"]],\"type\":\"heatmap\"}],\"heatmapgl\":[{\"colorbar\":{\"outlinewidth\":0,\"ticks\":\"\"},\"colorscale\":[[0.0,\"#0d0887\"],[0.1111111111111111,\"#46039f\"],[0.2222222222222222,\"#7201a8\"],[0.3333333333333333,\"#9c179e\"],[0.4444444444444444,\"#bd3786\"],[0.5555555555555556,\"#d8576b\"],[0.6666666666666666,\"#ed7953\"],[0.7777777777777778,\"#fb9f3a\"],[0.8888888888888888,\"#fdca26\"],[1.0,\"#f0f921\"]],\"type\":\"heatmapgl\"}],\"histogram\":[{\"marker\":{\"pattern\":{\"fillmode\":\"overlay\",\"size\":10,\"solidity\":0.2}},\"type\":\"histogram\"}],\"histogram2d\":[{\"colorbar\":{\"outlinewidth\":0,\"ticks\":\"\"},\"colorscale\":[[0.0,\"#0d0887\"],[0.1111111111111111,\"#46039f\"],[0.2222222222222222,\"#7201a8\"],[0.3333333333333333,\"#9c179e\"],[0.4444444444444444,\"#bd3786\"],[0.5555555555555556,\"#d8576b\"],[0.6666666666666666,\"#ed7953\"],[0.7777777777777778,\"#fb9f3a\"],[0.8888888888888888,\"#fdca26\"],[1.0,\"#f0f921\"]],\"type\":\"histogram2d\"}],\"histogram2dcontour\":[{\"colorbar\":{\"outlinewidth\":0,\"ticks\":\"\"},\"colorscale\":[[0.0,\"#0d0887\"],[0.1111111111111111,\"#46039f\"],[0.2222222222222222,\"#7201a8\"],[0.3333333333333333,\"#9c179e\"],[0.4444444444444444,\"#bd3786\"],[0.5555555555555556,\"#d8576b\"],[0.6666666666666666,\"#ed7953\"],[0.7777777777777778,\"#fb9f3a\"],[0.8888888888888888,\"#fdca26\"],[1.0,\"#f0f921\"]],\"type\":\"histogram2dcontour\"}],\"mesh3d\":[{\"colorbar\":{\"outlinewidth\":0,\"ticks\":\"\"},\"type\":\"mesh3d\"}],\"parcoords\":[{\"line\":{\"colorbar\":{\"outlinewidth\":0,\"ticks\":\"\"}},\"type\":\"parcoords\"}],\"pie\":[{\"automargin\":true,\"type\":\"pie\"}],\"scatter\":[{\"marker\":{\"colorbar\":{\"outlinewidth\":0,\"ticks\":\"\"}},\"type\":\"scatter\"}],\"scatter3d\":[{\"line\":{\"colorbar\":{\"outlinewidth\":0,\"ticks\":\"\"}},\"marker\":{\"colorbar\":{\"outlinewidth\":0,\"ticks\":\"\"}},\"type\":\"scatter3d\"}],\"scattercarpet\":[{\"marker\":{\"colorbar\":{\"outlinewidth\":0,\"ticks\":\"\"}},\"type\":\"scattercarpet\"}],\"scattergeo\":[{\"marker\":{\"colorbar\":{\"outlinewidth\":0,\"ticks\":\"\"}},\"type\":\"scattergeo\"}],\"scattergl\":[{\"marker\":{\"colorbar\":{\"outlinewidth\":0,\"ticks\":\"\"}},\"type\":\"scattergl\"}],\"scattermapbox\":[{\"marker\":{\"colorbar\":{\"outlinewidth\":0,\"ticks\":\"\"}},\"type\":\"scattermapbox\"}],\"scatterpolar\":[{\"marker\":{\"colorbar\":{\"outlinewidth\":0,\"ticks\":\"\"}},\"type\":\"scatterpolar\"}],\"scatterpolargl\":[{\"marker\":{\"colorbar\":{\"outlinewidth\":0,\"ticks\":\"\"}},\"type\":\"scatterpolargl\"}],\"scatterternary\":[{\"marker\":{\"colorbar\":{\"outlinewidth\":0,\"ticks\":\"\"}},\"type\":\"scatterternary\"}],\"surface\":[{\"colorbar\":{\"outlinewidth\":0,\"ticks\":\"\"},\"colorscale\":[[0.0,\"#0d0887\"],[0.1111111111111111,\"#46039f\"],[0.2222222222222222,\"#7201a8\"],[0.3333333333333333,\"#9c179e\"],[0.4444444444444444,\"#bd3786\"],[0.5555555555555556,\"#d8576b\"],[0.6666666666666666,\"#ed7953\"],[0.7777777777777778,\"#fb9f3a\"],[0.8888888888888888,\"#fdca26\"],[1.0,\"#f0f921\"]],\"type\":\"surface\"}],\"table\":[{\"cells\":{\"fill\":{\"color\":\"#EBF0F8\"},\"line\":{\"color\":\"white\"}},\"header\":{\"fill\":{\"color\":\"#C8D4E3\"},\"line\":{\"color\":\"white\"}},\"type\":\"table\"}]},\"layout\":{\"annotationdefaults\":{\"arrowcolor\":\"#2a3f5f\",\"arrowhead\":0,\"arrowwidth\":1},\"autotypenumbers\":\"strict\",\"coloraxis\":{\"colorbar\":{\"outlinewidth\":0,\"ticks\":\"\"}},\"colorscale\":{\"diverging\":[[0,\"#8e0152\"],[0.1,\"#c51b7d\"],[0.2,\"#de77ae\"],[0.3,\"#f1b6da\"],[0.4,\"#fde0ef\"],[0.5,\"#f7f7f7\"],[0.6,\"#e6f5d0\"],[0.7,\"#b8e186\"],[0.8,\"#7fbc41\"],[0.9,\"#4d9221\"],[1,\"#276419\"]],\"sequential\":[[0.0,\"#0d0887\"],[0.1111111111111111,\"#46039f\"],[0.2222222222222222,\"#7201a8\"],[0.3333333333333333,\"#9c179e\"],[0.4444444444444444,\"#bd3786\"],[0.5555555555555556,\"#d8576b\"],[0.6666666666666666,\"#ed7953\"],[0.7777777777777778,\"#fb9f3a\"],[0.8888888888888888,\"#fdca26\"],[1.0,\"#f0f921\"]],\"sequentialminus\":[[0.0,\"#0d0887\"],[0.1111111111111111,\"#46039f\"],[0.2222222222222222,\"#7201a8\"],[0.3333333333333333,\"#9c179e\"],[0.4444444444444444,\"#bd3786\"],[0.5555555555555556,\"#d8576b\"],[0.6666666666666666,\"#ed7953\"],[0.7777777777777778,\"#fb9f3a\"],[0.8888888888888888,\"#fdca26\"],[1.0,\"#f0f921\"]]},\"colorway\":[\"#636efa\",\"#EF553B\",\"#00cc96\",\"#ab63fa\",\"#FFA15A\",\"#19d3f3\",\"#FF6692\",\"#B6E880\",\"#FF97FF\",\"#FECB52\"],\"font\":{\"color\":\"#2a3f5f\"},\"geo\":{\"bgcolor\":\"white\",\"lakecolor\":\"white\",\"landcolor\":\"#E5ECF6\",\"showlakes\":true,\"showland\":true,\"subunitcolor\":\"white\"},\"hoverlabel\":{\"align\":\"left\"},\"hovermode\":\"closest\",\"mapbox\":{\"style\":\"light\"},\"paper_bgcolor\":\"white\",\"plot_bgcolor\":\"#E5ECF6\",\"polar\":{\"angularaxis\":{\"gridcolor\":\"white\",\"linecolor\":\"white\",\"ticks\":\"\"},\"bgcolor\":\"#E5ECF6\",\"radialaxis\":{\"gridcolor\":\"white\",\"linecolor\":\"white\",\"ticks\":\"\"}},\"scene\":{\"xaxis\":{\"backgroundcolor\":\"#E5ECF6\",\"gridcolor\":\"white\",\"gridwidth\":2,\"linecolor\":\"white\",\"showbackground\":true,\"ticks\":\"\",\"zerolinecolor\":\"white\"},\"yaxis\":{\"backgroundcolor\":\"#E5ECF6\",\"gridcolor\":\"white\",\"gridwidth\":2,\"linecolor\":\"white\",\"showbackground\":true,\"ticks\":\"\",\"zerolinecolor\":\"white\"},\"zaxis\":{\"backgroundcolor\":\"#E5ECF6\",\"gridcolor\":\"white\",\"gridwidth\":2,\"linecolor\":\"white\",\"showbackground\":true,\"ticks\":\"\",\"zerolinecolor\":\"white\"}},\"shapedefaults\":{\"line\":{\"color\":\"#2a3f5f\"}},\"ternary\":{\"aaxis\":{\"gridcolor\":\"white\",\"linecolor\":\"white\",\"ticks\":\"\"},\"baxis\":{\"gridcolor\":\"white\",\"linecolor\":\"white\",\"ticks\":\"\"},\"bgcolor\":\"#E5ECF6\",\"caxis\":{\"gridcolor\":\"white\",\"linecolor\":\"white\",\"ticks\":\"\"}},\"title\":{\"x\":0.05},\"xaxis\":{\"automargin\":true,\"gridcolor\":\"white\",\"linecolor\":\"white\",\"ticks\":\"\",\"title\":{\"standoff\":15},\"zerolinecolor\":\"white\",\"zerolinewidth\":2},\"yaxis\":{\"automargin\":true,\"gridcolor\":\"white\",\"linecolor\":\"white\",\"ticks\":\"\",\"title\":{\"standoff\":15},\"zerolinecolor\":\"white\",\"zerolinewidth\":2}}},\"xaxis\":{\"anchor\":\"y\",\"domain\":[0.0,1.0],\"title\":{\"text\":\"GDP\"},\"type\":\"log\"},\"yaxis\":{\"anchor\":\"x\",\"domain\":[0.0,1.0],\"title\":{\"text\":\"Life_expectancy \"}}},                        {\"responsive\": true}                    ).then(function(){\n",
       "                            \n",
       "var gd = document.getElementById('9af2dc50-a8f9-4976-b56d-052ca42cce77');\n",
       "var x = new MutationObserver(function (mutations, observer) {{\n",
       "        var display = window.getComputedStyle(gd).display;\n",
       "        if (!display || display === 'none') {{\n",
       "            console.log([gd, 'removed!']);\n",
       "            Plotly.purge(gd);\n",
       "            observer.disconnect();\n",
       "        }}\n",
       "}});\n",
       "\n",
       "// Listen for the removal of the full notebook cells\n",
       "var notebookContainer = gd.closest('#notebook-container');\n",
       "if (notebookContainer) {{\n",
       "    x.observe(notebookContainer, {childList: true});\n",
       "}}\n",
       "\n",
       "// Listen for the clearing of the current output cell\n",
       "var outputEl = gd.closest('.output');\n",
       "if (outputEl) {{\n",
       "    x.observe(outputEl, {childList: true});\n",
       "}}\n",
       "\n",
       "                        })                };                });            </script>        </div>"
      ]
     },
     "metadata": {},
     "output_type": "display_data"
    }
   ],
   "source": [
    "bubble = data[['Country','GDP','Population','Life_expectancy ']].groupby('Country').mean()\n",
    "bubble.dropna(inplace = True) #errors thrown if NaN values left in data frame slice\n",
    "\n",
    "fig = px.scatter(bubble, x=\"GDP\", y=\"Life_expectancy \",\n",
    "                 size=\"Population\", hover_name=bubble.index, log_x=True, size_max=50)\n",
    "fig.show()"
   ]
  },
  {
   "cell_type": "markdown",
   "metadata": {},
   "source": [
    "## Now let's try the bubble plot again, but categorize the countries based on continent"
   ]
  },
  {
   "cell_type": "code",
   "execution_count": 14,
   "metadata": {},
   "outputs": [
    {
     "data": {
      "application/vnd.plotly.v1+json": {
       "config": {
        "plotlyServerURL": "https://plot.ly"
       },
       "data": [
        {
         "hovertemplate": "<b>%{hovertext}</b><br><br>Continent=Asia<br>GDP=%{x}<br>Life_expectancy =%{y}<br>Population=%{marker.size}<extra></extra>",
         "hovertext": [
          "Afghanistan",
          "Armenia",
          "Azerbaijan",
          "Bangladesh",
          "Bhutan",
          "Cambodia",
          "China",
          "Cyprus",
          "Georgia",
          "India",
          "Indonesia",
          "Iraq",
          "Israel",
          "Japan",
          "Jordan",
          "Kazakhstan",
          "Lebanon",
          "Malaysia",
          "Maldives",
          "Mongolia",
          "Myanmar",
          "Nepal",
          "Pakistan",
          "Philippines",
          "Sri Lanka",
          "Syrian Arab Republic",
          "Tajikistan",
          "Thailand",
          "Turkey",
          "Turkmenistan",
          "Uzbekistan"
         ],
         "legendgroup": "Asia",
         "marker": {
          "color": "#636efa",
          "size": [
           9972259.8125,
           1015164.625,
           2157370.5,
           42985163.875,
           492584.9375,
           7145967.4375,
           321812.0625,
           390274.375,
           10152.375,
           421467690.9375,
           116555259.4375,
           18572840.8125,
           27862.875,
           97384.0625,
           4895075.6875,
           8340547.4375,
           2489104.5,
           11529155.8125,
           3334.25,
           2037470.6875,
           26015702,
           14633755.5625,
           69027961.8125,
           37265400.3125,
           10844.8125,
           6741444.8125,
           4751355,
           31170509.5,
           33501352.8125,
           2635550.1875,
           903631.6875
          ],
          "sizemode": "area",
          "sizeref": 168587.076375,
          "symbol": "circle"
         },
         "mode": "markers",
         "name": "Asia",
         "orientation": "v",
         "showlegend": true,
         "type": "scatter",
         "x": [
          340.01542546875004,
          1999.9863176500003,
          3302.9478069937504,
          443.5614810250001,
          1353.98694560625,
          466.19687804999995,
          2345.3031576875,
          13898.88550125,
          2158.2808692812496,
          837.9200509125001,
          1669.116783075,
          3542.5575372499993,
          18860.476015624998,
          24892.544784375,
          1822.6299256249997,
          4040.586664374999,
          4696.1923789375005,
          4904.9389918125,
          3818.2969615624997,
          1984.6880227125002,
          616.18435734375,
          395.32846794375007,
          666.11105159375,
          1397.1361066875002,
          1040.110189675,
          1087.435773875,
          335.84172523125017,
          3494.781701625,
          3983.9177217499996,
          2511.6115398624997,
          651.0923589312499
         ],
         "xaxis": "x",
         "y": [
          58.193749999999994,
          73.39999999999999,
          70.73124999999999,
          69.3,
          66.1625,
          64.34375,
          74.2625,
          79.675,
          73.50625,
          65.41874999999999,
          67.55625,
          70.35625,
          81.3,
          82.5375,
          72.9875,
          66.7625,
          74.2,
          73.75625000000001,
          75.5375,
          65.8875,
          64.2,
          66.48125,
          64.5,
          67.57499999999999,
          73.4,
          70.85,
          66.65625,
          73.08125,
          73.9125,
          64.61874999999999,
          68.03125
         ],
         "yaxis": "y"
        },
        {
         "hovertemplate": "<b>%{hovertext}</b><br><br>Continent=Europe<br>GDP=%{x}<br>Life_expectancy =%{y}<br>Population=%{marker.size}<extra></extra>",
         "hovertext": [
          "Albania",
          "Austria",
          "Belarus",
          "Belgium",
          "Bosnia and Herzegovina",
          "Bulgaria",
          "Croatia",
          "Denmark",
          "Estonia",
          "Finland",
          "France",
          "Germany",
          "Greece",
          "Hungary",
          "Iceland",
          "Ireland",
          "Italy",
          "Latvia",
          "Lithuania",
          "Luxembourg",
          "Malta",
          "Montenegro",
          "Netherlands",
          "Norway",
          "Poland",
          "Portugal",
          "Romania",
          "Russian Federation",
          "Serbia",
          "Slovenia",
          "Spain",
          "Sweden",
          "Switzerland",
          "Ukraine"
         ],
         "legendgroup": "Europe",
         "marker": {
          "color": "#EF553B",
          "size": [
           696911.625,
           6474879.875,
           6371866.8125,
           2884042.5625,
           1986993.0625,
           5290923.9375,
           1159772.375,
           4260081.375,
           791848.6875,
           3493082.3125,
           27581733.125,
           38757347.4375,
           1550208.4375,
           1604902.25,
           186177.625,
           3599794.5625,
           27643788.9375,
           1174562.6875,
           1926212.125,
           265276.375,
           224742.4375,
           329668.1875,
           9775704.375,
           2614432.3125,
           16053249.625,
           1032225.375,
           9206345.625,
           59762085.625,
           3608279.875,
           401279.0625,
           26542854.125,
           5514868.3125,
           5913241.8125,
           10004933.25
          ],
          "sizemode": "area",
          "sizeref": 168587.076375,
          "symbol": "circle"
         },
         "mode": "markers",
         "name": "Europe",
         "orientation": "v",
         "showlegend": true,
         "type": "scatter",
         "x": [
          2119.7266788750003,
          33827.47630875,
          3811.5253479999997,
          16915.305999999997,
          2245.0260235624996,
          4938.981821375001,
          9056.7847190625,
          33067.407915625,
          8340.4329494375,
          25268.649758125,
          26465.551380625,
          24337.749100000005,
          16454.23587,
          8513.641831249997,
          30159.502907500006,
          33835.272005,
          21234.782370625006,
          7951.824896624999,
          9007.4586225,
          53257.012740624996,
          10114.797943125002,
          4676.5142774999995,
          34964.719796875,
          27434.946928125,
          6792.5636004375,
          11598.625531249998,
          4258.9400543125,
          6545.137358999999,
          3674.5424077625007,
          11441.044377499999,
          17093.459736875,
          29334.990639375,
          57362.874601250005,
          1577.293328625
         ],
         "xaxis": "x",
         "y": [
          75.15624999999999,
          81.48124999999999,
          69.90625,
          80.68124999999999,
          75.96875000000001,
          72.85,
          76.11875,
          79.25625000000001,
          74.94375,
          80.7125,
          82.21875,
          81.175,
          81.21875,
          73.82499999999999,
          82.44375000000001,
          80.15,
          82.1875,
          73.73125,
          72.80624999999999,
          80.78125,
          80.36250000000001,
          74.5,
          81.13125,
          81.79375,
          75.65,
          79.99375,
          74.05000000000001,
          67.76249999999999,
          73.95625,
          79.73125,
          82.06875,
          82.51875,
          82.33125,
          69.9375
         ],
         "yaxis": "y"
        },
        {
         "hovertemplate": "<b>%{hovertext}</b><br><br>Continent=Africa<br>GDP=%{x}<br>Life_expectancy =%{y}<br>Population=%{marker.size}<extra></extra>",
         "hovertext": [
          "Algeria",
          "Angola",
          "Benin",
          "Botswana",
          "Burkina Faso",
          "Burundi",
          "Cabo Verde",
          "Cameroon",
          "Central African Republic",
          "Chad",
          "Comoros",
          "Djibouti",
          "Equatorial Guinea",
          "Eritrea",
          "Ethiopia",
          "Gabon",
          "Ghana",
          "Guinea",
          "Guinea-Bissau",
          "Kenya",
          "Lesotho",
          "Liberia",
          "Madagascar",
          "Malawi",
          "Mali",
          "Mauritania",
          "Mauritius",
          "Morocco",
          "Mozambique",
          "Namibia",
          "Niger",
          "Nigeria",
          "Rwanda",
          "Sao Tome and Principe",
          "Senegal",
          "Seychelles",
          "Sierra Leone",
          "South Africa",
          "South Sudan",
          "Sudan",
          "Swaziland",
          "Timor-Leste",
          "Togo",
          "Tunisia",
          "Uganda",
          "Zambia",
          "Zimbabwe"
         ],
         "legendgroup": "Africa",
         "marker": {
          "color": "#00cc96",
          "size": [
           21649827.4375,
           10147099.1875,
           3942978.9375,
           1063867.375,
           6143694.8125,
           3915446.6875,
           292600.25,
           9967291.9375,
           2016546.125,
           4114092.0625,
           532200.6875,
           634116.1875,
           556765.3125,
           2071919.3333333333,
           43950760.75,
           1007302.3125,
           11534782.625,
           4252798.9375,
           981883.1875,
           16826787.625,
           1200527.5625,
           2788942.625,
           10950267.4375,
           6700263.0625,
           5781492.875,
           1262286.1875,
           663332.875,
           20591653.9375,
           11729745.9375,
           1025527.125,
           11240718.9375,
           70877003.0625,
           3735506.5625,
           108853.9375,
           5413842.6875,
           61543.8125,
           3336264.5625,
           29213839.465000004,
           3750827.125,
           18046515.125,
           457303.0625,
           460195.625,
           3722045.5625,
           3274493.1875,
           15540587.125,
           6260246.4375,
           8021343.0625
          ],
          "sizemode": "area",
          "sizeref": 168587.076375,
          "symbol": "circle"
         },
         "mode": "markers",
         "name": "Africa",
         "orientation": "v",
         "showlegend": true,
         "type": "scatter",
         "x": [
          2847.8533923125,
          1975.1430451187498,
          561.167968,
          4498.285431187499,
          410.3720343125,
          137.81532131875,
          2023.54103925,
          781.0160044124999,
          363.05590484999993,
          484.7916940562499,
          630.38433406875,
          897.9998706499999,
          7902.4107885625,
          259.3953562916667,
          264.97094995000003,
          5179.2561886250005,
          834.3761008125001,
          279.46479789375,
          384.2149305312501,
          716.77006788125,
          794.5230103125001,
          246.28174803125006,
          314.04132958124995,
          237.50404201875,
          530.5121700999999,
          635.04960900625,
          5299.579823624998,
          1936.3914383750002,
          365.06823808125,
          3042.6035070000003,
          259.782440975,
          1360.1398774687502,
          300.01801709374996,
          771.0348342533331,
          274.61116614375004,
          6496.302397062499,
          271.50556128125004,
          4869.4270436874995,
          1092.233630625,
          1192.7979534312497,
          2165.0908375000004,
          551.7106493125001,
          317.20409206875007,
          3044.081488375,
          421.04849634374995,
          811.8118405187499,
          410.98019376875
         ],
         "xaxis": "x",
         "y": [
          73.61874999999999,
          49.01875,
          57.568749999999994,
          56.05,
          55.64374999999999,
          55.537499999999994,
          72.51875,
          54.01875,
          48.51250000000001,
          50.3875,
          61.581250000000004,
          60.75625,
          55.3125,
          60.6875,
          59.11250000000001,
          62.243750000000006,
          60.8625,
          56.0125,
          55.36875,
          57.481249999999996,
          48.78124999999999,
          57.525,
          62.74375,
          49.893750000000004,
          54.9375,
          62.8,
          72.7125,
          72.15624999999999,
          53.393750000000004,
          60.400000000000006,
          56.98125,
          51.35625000000001,
          59.3125,
          65.1625,
          62.56875,
          72.37500000000001,
          46.1125,
          57.49999999999999,
          53.875,
          61.825,
          51.324999999999996,
          64.75625,
          56.66250000000001,
          74.35625000000002,
          55.70625,
          53.90624999999999,
          50.48749999999999
         ],
         "yaxis": "y"
        },
        {
         "hovertemplate": "<b>%{hovertext}</b><br><br>Continent=South America<br>GDP=%{x}<br>Life_expectancy =%{y}<br>Population=%{marker.size}<extra></extra>",
         "hovertext": [
          "Argentina",
          "Brazil",
          "Chile",
          "Colombia",
          "Ecuador",
          "Guyana",
          "Paraguay",
          "Peru",
          "Suriname",
          "Uruguay"
         ],
         "legendgroup": "South America",
         "marker": {
          "color": "#ab63fa",
          "size": [
           20121204.5,
           88128071.25,
           14671763.9375,
           31767432.625,
           8710592.0625,
           494437.25,
           3299080.625,
           16854321.6875,
           190916.625,
           2396771.125
          ],
          "sizemode": "area",
          "sizeref": 168587.076375,
          "symbol": "circle"
         },
         "mode": "markers",
         "name": "South America",
         "orientation": "v",
         "showlegend": true,
         "type": "scatter",
         "x": [
          6998.575103125,
          6143.161793500001,
          6202.344363562499,
          3321.6607483124994,
          2005.3524679375,
          1783.8809370625002,
          1983.4043354375003,
          2928.5435416249998,
          4781.216821937499,
          7192.5848745
         ],
         "xaxis": "x",
         "y": [
          75.15624999999999,
          73.38125,
          79.44999999999999,
          73.28750000000001,
          74.72500000000001,
          65.6375,
          73.1125,
          73.66250000000001,
          70.08125,
          76.075
         ],
         "yaxis": "y"
        },
        {
         "hovertemplate": "<b>%{hovertext}</b><br><br>Continent=Australia<br>GDP=%{x}<br>Life_expectancy =%{y}<br>Population=%{marker.size}<extra></extra>",
         "hovertext": [
          "Australia",
          "Fiji",
          "Kiribati",
          "Papua New Guinea",
          "Samoa",
          "Solomon Islands",
          "Tonga",
          "Vanuatu"
         ],
         "legendgroup": "Australia",
         "marker": {
          "color": "#FFA15A",
          "size": [
           4587009.875,
           650205.125,
           35919.9375,
           4813446,
           131440.125,
           329044.1875,
           26589.8125,
           123096.1875
          ],
          "sizemode": "area",
          "sizeref": 168587.076375,
          "symbol": "circle"
         },
         "mode": "markers",
         "name": "Australia",
         "orientation": "v",
         "showlegend": true,
         "type": "scatter",
         "x": [
          34637.565046874995,
          2947.6126888750005,
          1175.29241553125,
          758.0976163466668,
          2121.6206485000002,
          801.9123831749998,
          1981.5551861874999,
          2000.2455181250002
         ],
         "xaxis": "x",
         "y": [
          81.81250000000001,
          68.7125,
          65.14999999999999,
          61.68125,
          73.61875,
          67.7125,
          72.53124999999999,
          71.38749999999999
         ],
         "yaxis": "y"
        },
        {
         "hovertemplate": "<b>%{hovertext}</b><br><br>Continent=North America<br>GDP=%{x}<br>Life_expectancy =%{y}<br>Population=%{marker.size}<extra></extra>",
         "hovertext": [
          "Belize",
          "Canada",
          "Costa Rica",
          "Dominican Republic",
          "El Salvador",
          "Guatemala",
          "Haiti",
          "Honduras",
          "Jamaica",
          "Mexico",
          "Nicaragua",
          "Panama",
          "Trinidad and Tobago"
         ],
         "legendgroup": "North America",
         "marker": {
          "color": "#19d3f3",
          "size": [
           170392.875,
           11364053.8125,
           2309299.4375,
           4448642.6875,
           2930826.5,
           5933907.5,
           3852657.6875,
           2832386.5625,
           1500309.125,
           27585265.1875,
           1999846.9375,
           1955021.875,
           776133.125
          ],
          "sizemode": "area",
          "sizeref": 168587.076375,
          "symbol": "circle"
         },
         "mode": "markers",
         "name": "North America",
         "orientation": "v",
         "showlegend": true,
         "type": "scatter",
         "x": [
          3933.0121744999997,
          29382.907523125003,
          3957.22728625,
          3509.4991863125,
          2517.8346304375,
          2365.83447375,
          434.36012815000004,
          1421.7880825000002,
          2509.5464696249996,
          5179.33080675,
          957.9039710624999,
          5417.768890249999,
          7741.748090062502
         ],
         "xaxis": "x",
         "y": [
          69.26875,
          81.6875,
          78.59374999999999,
          72.34374999999999,
          71.74375,
          71.73125,
          59.868750000000006,
          72.99374999999999,
          74.29375,
          75.71874999999999,
          73.45,
          76.4875,
          71.06875
         ],
         "yaxis": "y"
        }
       ],
       "layout": {
        "legend": {
         "itemsizing": "constant",
         "title": {
          "text": "Continent"
         },
         "tracegroupgap": 0
        },
        "margin": {
         "t": 60
        },
        "template": {
         "data": {
          "bar": [
           {
            "error_x": {
             "color": "#2a3f5f"
            },
            "error_y": {
             "color": "#2a3f5f"
            },
            "marker": {
             "line": {
              "color": "#E5ECF6",
              "width": 0.5
             },
             "pattern": {
              "fillmode": "overlay",
              "size": 10,
              "solidity": 0.2
             }
            },
            "type": "bar"
           }
          ],
          "barpolar": [
           {
            "marker": {
             "line": {
              "color": "#E5ECF6",
              "width": 0.5
             },
             "pattern": {
              "fillmode": "overlay",
              "size": 10,
              "solidity": 0.2
             }
            },
            "type": "barpolar"
           }
          ],
          "carpet": [
           {
            "aaxis": {
             "endlinecolor": "#2a3f5f",
             "gridcolor": "white",
             "linecolor": "white",
             "minorgridcolor": "white",
             "startlinecolor": "#2a3f5f"
            },
            "baxis": {
             "endlinecolor": "#2a3f5f",
             "gridcolor": "white",
             "linecolor": "white",
             "minorgridcolor": "white",
             "startlinecolor": "#2a3f5f"
            },
            "type": "carpet"
           }
          ],
          "choropleth": [
           {
            "colorbar": {
             "outlinewidth": 0,
             "ticks": ""
            },
            "type": "choropleth"
           }
          ],
          "contour": [
           {
            "colorbar": {
             "outlinewidth": 0,
             "ticks": ""
            },
            "colorscale": [
             [
              0,
              "#0d0887"
             ],
             [
              0.1111111111111111,
              "#46039f"
             ],
             [
              0.2222222222222222,
              "#7201a8"
             ],
             [
              0.3333333333333333,
              "#9c179e"
             ],
             [
              0.4444444444444444,
              "#bd3786"
             ],
             [
              0.5555555555555556,
              "#d8576b"
             ],
             [
              0.6666666666666666,
              "#ed7953"
             ],
             [
              0.7777777777777778,
              "#fb9f3a"
             ],
             [
              0.8888888888888888,
              "#fdca26"
             ],
             [
              1,
              "#f0f921"
             ]
            ],
            "type": "contour"
           }
          ],
          "contourcarpet": [
           {
            "colorbar": {
             "outlinewidth": 0,
             "ticks": ""
            },
            "type": "contourcarpet"
           }
          ],
          "heatmap": [
           {
            "colorbar": {
             "outlinewidth": 0,
             "ticks": ""
            },
            "colorscale": [
             [
              0,
              "#0d0887"
             ],
             [
              0.1111111111111111,
              "#46039f"
             ],
             [
              0.2222222222222222,
              "#7201a8"
             ],
             [
              0.3333333333333333,
              "#9c179e"
             ],
             [
              0.4444444444444444,
              "#bd3786"
             ],
             [
              0.5555555555555556,
              "#d8576b"
             ],
             [
              0.6666666666666666,
              "#ed7953"
             ],
             [
              0.7777777777777778,
              "#fb9f3a"
             ],
             [
              0.8888888888888888,
              "#fdca26"
             ],
             [
              1,
              "#f0f921"
             ]
            ],
            "type": "heatmap"
           }
          ],
          "heatmapgl": [
           {
            "colorbar": {
             "outlinewidth": 0,
             "ticks": ""
            },
            "colorscale": [
             [
              0,
              "#0d0887"
             ],
             [
              0.1111111111111111,
              "#46039f"
             ],
             [
              0.2222222222222222,
              "#7201a8"
             ],
             [
              0.3333333333333333,
              "#9c179e"
             ],
             [
              0.4444444444444444,
              "#bd3786"
             ],
             [
              0.5555555555555556,
              "#d8576b"
             ],
             [
              0.6666666666666666,
              "#ed7953"
             ],
             [
              0.7777777777777778,
              "#fb9f3a"
             ],
             [
              0.8888888888888888,
              "#fdca26"
             ],
             [
              1,
              "#f0f921"
             ]
            ],
            "type": "heatmapgl"
           }
          ],
          "histogram": [
           {
            "marker": {
             "pattern": {
              "fillmode": "overlay",
              "size": 10,
              "solidity": 0.2
             }
            },
            "type": "histogram"
           }
          ],
          "histogram2d": [
           {
            "colorbar": {
             "outlinewidth": 0,
             "ticks": ""
            },
            "colorscale": [
             [
              0,
              "#0d0887"
             ],
             [
              0.1111111111111111,
              "#46039f"
             ],
             [
              0.2222222222222222,
              "#7201a8"
             ],
             [
              0.3333333333333333,
              "#9c179e"
             ],
             [
              0.4444444444444444,
              "#bd3786"
             ],
             [
              0.5555555555555556,
              "#d8576b"
             ],
             [
              0.6666666666666666,
              "#ed7953"
             ],
             [
              0.7777777777777778,
              "#fb9f3a"
             ],
             [
              0.8888888888888888,
              "#fdca26"
             ],
             [
              1,
              "#f0f921"
             ]
            ],
            "type": "histogram2d"
           }
          ],
          "histogram2dcontour": [
           {
            "colorbar": {
             "outlinewidth": 0,
             "ticks": ""
            },
            "colorscale": [
             [
              0,
              "#0d0887"
             ],
             [
              0.1111111111111111,
              "#46039f"
             ],
             [
              0.2222222222222222,
              "#7201a8"
             ],
             [
              0.3333333333333333,
              "#9c179e"
             ],
             [
              0.4444444444444444,
              "#bd3786"
             ],
             [
              0.5555555555555556,
              "#d8576b"
             ],
             [
              0.6666666666666666,
              "#ed7953"
             ],
             [
              0.7777777777777778,
              "#fb9f3a"
             ],
             [
              0.8888888888888888,
              "#fdca26"
             ],
             [
              1,
              "#f0f921"
             ]
            ],
            "type": "histogram2dcontour"
           }
          ],
          "mesh3d": [
           {
            "colorbar": {
             "outlinewidth": 0,
             "ticks": ""
            },
            "type": "mesh3d"
           }
          ],
          "parcoords": [
           {
            "line": {
             "colorbar": {
              "outlinewidth": 0,
              "ticks": ""
             }
            },
            "type": "parcoords"
           }
          ],
          "pie": [
           {
            "automargin": true,
            "type": "pie"
           }
          ],
          "scatter": [
           {
            "marker": {
             "colorbar": {
              "outlinewidth": 0,
              "ticks": ""
             }
            },
            "type": "scatter"
           }
          ],
          "scatter3d": [
           {
            "line": {
             "colorbar": {
              "outlinewidth": 0,
              "ticks": ""
             }
            },
            "marker": {
             "colorbar": {
              "outlinewidth": 0,
              "ticks": ""
             }
            },
            "type": "scatter3d"
           }
          ],
          "scattercarpet": [
           {
            "marker": {
             "colorbar": {
              "outlinewidth": 0,
              "ticks": ""
             }
            },
            "type": "scattercarpet"
           }
          ],
          "scattergeo": [
           {
            "marker": {
             "colorbar": {
              "outlinewidth": 0,
              "ticks": ""
             }
            },
            "type": "scattergeo"
           }
          ],
          "scattergl": [
           {
            "marker": {
             "colorbar": {
              "outlinewidth": 0,
              "ticks": ""
             }
            },
            "type": "scattergl"
           }
          ],
          "scattermapbox": [
           {
            "marker": {
             "colorbar": {
              "outlinewidth": 0,
              "ticks": ""
             }
            },
            "type": "scattermapbox"
           }
          ],
          "scatterpolar": [
           {
            "marker": {
             "colorbar": {
              "outlinewidth": 0,
              "ticks": ""
             }
            },
            "type": "scatterpolar"
           }
          ],
          "scatterpolargl": [
           {
            "marker": {
             "colorbar": {
              "outlinewidth": 0,
              "ticks": ""
             }
            },
            "type": "scatterpolargl"
           }
          ],
          "scatterternary": [
           {
            "marker": {
             "colorbar": {
              "outlinewidth": 0,
              "ticks": ""
             }
            },
            "type": "scatterternary"
           }
          ],
          "surface": [
           {
            "colorbar": {
             "outlinewidth": 0,
             "ticks": ""
            },
            "colorscale": [
             [
              0,
              "#0d0887"
             ],
             [
              0.1111111111111111,
              "#46039f"
             ],
             [
              0.2222222222222222,
              "#7201a8"
             ],
             [
              0.3333333333333333,
              "#9c179e"
             ],
             [
              0.4444444444444444,
              "#bd3786"
             ],
             [
              0.5555555555555556,
              "#d8576b"
             ],
             [
              0.6666666666666666,
              "#ed7953"
             ],
             [
              0.7777777777777778,
              "#fb9f3a"
             ],
             [
              0.8888888888888888,
              "#fdca26"
             ],
             [
              1,
              "#f0f921"
             ]
            ],
            "type": "surface"
           }
          ],
          "table": [
           {
            "cells": {
             "fill": {
              "color": "#EBF0F8"
             },
             "line": {
              "color": "white"
             }
            },
            "header": {
             "fill": {
              "color": "#C8D4E3"
             },
             "line": {
              "color": "white"
             }
            },
            "type": "table"
           }
          ]
         },
         "layout": {
          "annotationdefaults": {
           "arrowcolor": "#2a3f5f",
           "arrowhead": 0,
           "arrowwidth": 1
          },
          "autotypenumbers": "strict",
          "coloraxis": {
           "colorbar": {
            "outlinewidth": 0,
            "ticks": ""
           }
          },
          "colorscale": {
           "diverging": [
            [
             0,
             "#8e0152"
            ],
            [
             0.1,
             "#c51b7d"
            ],
            [
             0.2,
             "#de77ae"
            ],
            [
             0.3,
             "#f1b6da"
            ],
            [
             0.4,
             "#fde0ef"
            ],
            [
             0.5,
             "#f7f7f7"
            ],
            [
             0.6,
             "#e6f5d0"
            ],
            [
             0.7,
             "#b8e186"
            ],
            [
             0.8,
             "#7fbc41"
            ],
            [
             0.9,
             "#4d9221"
            ],
            [
             1,
             "#276419"
            ]
           ],
           "sequential": [
            [
             0,
             "#0d0887"
            ],
            [
             0.1111111111111111,
             "#46039f"
            ],
            [
             0.2222222222222222,
             "#7201a8"
            ],
            [
             0.3333333333333333,
             "#9c179e"
            ],
            [
             0.4444444444444444,
             "#bd3786"
            ],
            [
             0.5555555555555556,
             "#d8576b"
            ],
            [
             0.6666666666666666,
             "#ed7953"
            ],
            [
             0.7777777777777778,
             "#fb9f3a"
            ],
            [
             0.8888888888888888,
             "#fdca26"
            ],
            [
             1,
             "#f0f921"
            ]
           ],
           "sequentialminus": [
            [
             0,
             "#0d0887"
            ],
            [
             0.1111111111111111,
             "#46039f"
            ],
            [
             0.2222222222222222,
             "#7201a8"
            ],
            [
             0.3333333333333333,
             "#9c179e"
            ],
            [
             0.4444444444444444,
             "#bd3786"
            ],
            [
             0.5555555555555556,
             "#d8576b"
            ],
            [
             0.6666666666666666,
             "#ed7953"
            ],
            [
             0.7777777777777778,
             "#fb9f3a"
            ],
            [
             0.8888888888888888,
             "#fdca26"
            ],
            [
             1,
             "#f0f921"
            ]
           ]
          },
          "colorway": [
           "#636efa",
           "#EF553B",
           "#00cc96",
           "#ab63fa",
           "#FFA15A",
           "#19d3f3",
           "#FF6692",
           "#B6E880",
           "#FF97FF",
           "#FECB52"
          ],
          "font": {
           "color": "#2a3f5f"
          },
          "geo": {
           "bgcolor": "white",
           "lakecolor": "white",
           "landcolor": "#E5ECF6",
           "showlakes": true,
           "showland": true,
           "subunitcolor": "white"
          },
          "hoverlabel": {
           "align": "left"
          },
          "hovermode": "closest",
          "mapbox": {
           "style": "light"
          },
          "paper_bgcolor": "white",
          "plot_bgcolor": "#E5ECF6",
          "polar": {
           "angularaxis": {
            "gridcolor": "white",
            "linecolor": "white",
            "ticks": ""
           },
           "bgcolor": "#E5ECF6",
           "radialaxis": {
            "gridcolor": "white",
            "linecolor": "white",
            "ticks": ""
           }
          },
          "scene": {
           "xaxis": {
            "backgroundcolor": "#E5ECF6",
            "gridcolor": "white",
            "gridwidth": 2,
            "linecolor": "white",
            "showbackground": true,
            "ticks": "",
            "zerolinecolor": "white"
           },
           "yaxis": {
            "backgroundcolor": "#E5ECF6",
            "gridcolor": "white",
            "gridwidth": 2,
            "linecolor": "white",
            "showbackground": true,
            "ticks": "",
            "zerolinecolor": "white"
           },
           "zaxis": {
            "backgroundcolor": "#E5ECF6",
            "gridcolor": "white",
            "gridwidth": 2,
            "linecolor": "white",
            "showbackground": true,
            "ticks": "",
            "zerolinecolor": "white"
           }
          },
          "shapedefaults": {
           "line": {
            "color": "#2a3f5f"
           }
          },
          "ternary": {
           "aaxis": {
            "gridcolor": "white",
            "linecolor": "white",
            "ticks": ""
           },
           "baxis": {
            "gridcolor": "white",
            "linecolor": "white",
            "ticks": ""
           },
           "bgcolor": "#E5ECF6",
           "caxis": {
            "gridcolor": "white",
            "linecolor": "white",
            "ticks": ""
           }
          },
          "title": {
           "x": 0.05
          },
          "xaxis": {
           "automargin": true,
           "gridcolor": "white",
           "linecolor": "white",
           "ticks": "",
           "title": {
            "standoff": 15
           },
           "zerolinecolor": "white",
           "zerolinewidth": 2
          },
          "yaxis": {
           "automargin": true,
           "gridcolor": "white",
           "linecolor": "white",
           "ticks": "",
           "title": {
            "standoff": 15
           },
           "zerolinecolor": "white",
           "zerolinewidth": 2
          }
         }
        },
        "xaxis": {
         "anchor": "y",
         "domain": [
          0,
          1
         ],
         "title": {
          "text": "GDP"
         },
         "type": "log"
        },
        "yaxis": {
         "anchor": "x",
         "domain": [
          0,
          1
         ],
         "title": {
          "text": "Life_expectancy "
         }
        }
       }
      },
      "text/html": [
       "<div>                            <div id=\"a3c14b47-1397-4f83-a931-876ea3f82770\" class=\"plotly-graph-div\" style=\"height:525px; width:100%;\"></div>            <script type=\"text/javascript\">                require([\"plotly\"], function(Plotly) {                    window.PLOTLYENV=window.PLOTLYENV || {};                                    if (document.getElementById(\"a3c14b47-1397-4f83-a931-876ea3f82770\")) {                    Plotly.newPlot(                        \"a3c14b47-1397-4f83-a931-876ea3f82770\",                        [{\"hovertemplate\":\"<b>%{hovertext}</b><br><br>Continent=Asia<br>GDP=%{x}<br>Life_expectancy =%{y}<br>Population=%{marker.size}<extra></extra>\",\"hovertext\":[\"Afghanistan\",\"Armenia\",\"Azerbaijan\",\"Bangladesh\",\"Bhutan\",\"Cambodia\",\"China\",\"Cyprus\",\"Georgia\",\"India\",\"Indonesia\",\"Iraq\",\"Israel\",\"Japan\",\"Jordan\",\"Kazakhstan\",\"Lebanon\",\"Malaysia\",\"Maldives\",\"Mongolia\",\"Myanmar\",\"Nepal\",\"Pakistan\",\"Philippines\",\"Sri Lanka\",\"Syrian Arab Republic\",\"Tajikistan\",\"Thailand\",\"Turkey\",\"Turkmenistan\",\"Uzbekistan\"],\"legendgroup\":\"Asia\",\"marker\":{\"color\":\"#636efa\",\"size\":[9972259.8125,1015164.625,2157370.5,42985163.875,492584.9375,7145967.4375,321812.0625,390274.375,10152.375,421467690.9375,116555259.4375,18572840.8125,27862.875,97384.0625,4895075.6875,8340547.4375,2489104.5,11529155.8125,3334.25,2037470.6875,26015702.0,14633755.5625,69027961.8125,37265400.3125,10844.8125,6741444.8125,4751355.0,31170509.5,33501352.8125,2635550.1875,903631.6875],\"sizemode\":\"area\",\"sizeref\":168587.076375,\"symbol\":\"circle\"},\"mode\":\"markers\",\"name\":\"Asia\",\"orientation\":\"v\",\"showlegend\":true,\"type\":\"scatter\",\"x\":[340.01542546875004,1999.9863176500003,3302.9478069937504,443.5614810250001,1353.98694560625,466.19687804999995,2345.3031576875,13898.88550125,2158.2808692812496,837.9200509125001,1669.116783075,3542.5575372499993,18860.476015624998,24892.544784375,1822.6299256249997,4040.586664374999,4696.1923789375005,4904.9389918125,3818.2969615624997,1984.6880227125002,616.18435734375,395.32846794375007,666.11105159375,1397.1361066875002,1040.110189675,1087.435773875,335.84172523125017,3494.781701625,3983.9177217499996,2511.6115398624997,651.0923589312499],\"xaxis\":\"x\",\"y\":[58.193749999999994,73.39999999999999,70.73124999999999,69.3,66.1625,64.34375,74.2625,79.675,73.50625,65.41874999999999,67.55625,70.35625,81.3,82.5375,72.9875,66.7625,74.2,73.75625000000001,75.5375,65.8875,64.2,66.48125,64.5,67.57499999999999,73.4,70.85,66.65625,73.08125,73.9125,64.61874999999999,68.03125],\"yaxis\":\"y\"},{\"hovertemplate\":\"<b>%{hovertext}</b><br><br>Continent=Europe<br>GDP=%{x}<br>Life_expectancy =%{y}<br>Population=%{marker.size}<extra></extra>\",\"hovertext\":[\"Albania\",\"Austria\",\"Belarus\",\"Belgium\",\"Bosnia and Herzegovina\",\"Bulgaria\",\"Croatia\",\"Denmark\",\"Estonia\",\"Finland\",\"France\",\"Germany\",\"Greece\",\"Hungary\",\"Iceland\",\"Ireland\",\"Italy\",\"Latvia\",\"Lithuania\",\"Luxembourg\",\"Malta\",\"Montenegro\",\"Netherlands\",\"Norway\",\"Poland\",\"Portugal\",\"Romania\",\"Russian Federation\",\"Serbia\",\"Slovenia\",\"Spain\",\"Sweden\",\"Switzerland\",\"Ukraine\"],\"legendgroup\":\"Europe\",\"marker\":{\"color\":\"#EF553B\",\"size\":[696911.625,6474879.875,6371866.8125,2884042.5625,1986993.0625,5290923.9375,1159772.375,4260081.375,791848.6875,3493082.3125,27581733.125,38757347.4375,1550208.4375,1604902.25,186177.625,3599794.5625,27643788.9375,1174562.6875,1926212.125,265276.375,224742.4375,329668.1875,9775704.375,2614432.3125,16053249.625,1032225.375,9206345.625,59762085.625,3608279.875,401279.0625,26542854.125,5514868.3125,5913241.8125,10004933.25],\"sizemode\":\"area\",\"sizeref\":168587.076375,\"symbol\":\"circle\"},\"mode\":\"markers\",\"name\":\"Europe\",\"orientation\":\"v\",\"showlegend\":true,\"type\":\"scatter\",\"x\":[2119.7266788750003,33827.47630875,3811.5253479999997,16915.305999999997,2245.0260235624996,4938.981821375001,9056.7847190625,33067.407915625,8340.4329494375,25268.649758125,26465.551380625,24337.749100000005,16454.23587,8513.641831249997,30159.502907500006,33835.272005,21234.782370625006,7951.824896624999,9007.4586225,53257.012740624996,10114.797943125002,4676.5142774999995,34964.719796875,27434.946928125,6792.5636004375,11598.625531249998,4258.9400543125,6545.137358999999,3674.5424077625007,11441.044377499999,17093.459736875,29334.990639375,57362.874601250005,1577.293328625],\"xaxis\":\"x\",\"y\":[75.15624999999999,81.48124999999999,69.90625,80.68124999999999,75.96875000000001,72.85,76.11875,79.25625000000001,74.94375,80.7125,82.21875,81.175,81.21875,73.82499999999999,82.44375000000001,80.15,82.1875,73.73125,72.80624999999999,80.78125,80.36250000000001,74.5,81.13125,81.79375,75.65,79.99375,74.05000000000001,67.76249999999999,73.95625,79.73125,82.06875,82.51875,82.33125,69.9375],\"yaxis\":\"y\"},{\"hovertemplate\":\"<b>%{hovertext}</b><br><br>Continent=Africa<br>GDP=%{x}<br>Life_expectancy =%{y}<br>Population=%{marker.size}<extra></extra>\",\"hovertext\":[\"Algeria\",\"Angola\",\"Benin\",\"Botswana\",\"Burkina Faso\",\"Burundi\",\"Cabo Verde\",\"Cameroon\",\"Central African Republic\",\"Chad\",\"Comoros\",\"Djibouti\",\"Equatorial Guinea\",\"Eritrea\",\"Ethiopia\",\"Gabon\",\"Ghana\",\"Guinea\",\"Guinea-Bissau\",\"Kenya\",\"Lesotho\",\"Liberia\",\"Madagascar\",\"Malawi\",\"Mali\",\"Mauritania\",\"Mauritius\",\"Morocco\",\"Mozambique\",\"Namibia\",\"Niger\",\"Nigeria\",\"Rwanda\",\"Sao Tome and Principe\",\"Senegal\",\"Seychelles\",\"Sierra Leone\",\"South Africa\",\"South Sudan\",\"Sudan\",\"Swaziland\",\"Timor-Leste\",\"Togo\",\"Tunisia\",\"Uganda\",\"Zambia\",\"Zimbabwe\"],\"legendgroup\":\"Africa\",\"marker\":{\"color\":\"#00cc96\",\"size\":[21649827.4375,10147099.1875,3942978.9375,1063867.375,6143694.8125,3915446.6875,292600.25,9967291.9375,2016546.125,4114092.0625,532200.6875,634116.1875,556765.3125,2071919.3333333333,43950760.75,1007302.3125,11534782.625,4252798.9375,981883.1875,16826787.625,1200527.5625,2788942.625,10950267.4375,6700263.0625,5781492.875,1262286.1875,663332.875,20591653.9375,11729745.9375,1025527.125,11240718.9375,70877003.0625,3735506.5625,108853.9375,5413842.6875,61543.8125,3336264.5625,29213839.465000004,3750827.125,18046515.125,457303.0625,460195.625,3722045.5625,3274493.1875,15540587.125,6260246.4375,8021343.0625],\"sizemode\":\"area\",\"sizeref\":168587.076375,\"symbol\":\"circle\"},\"mode\":\"markers\",\"name\":\"Africa\",\"orientation\":\"v\",\"showlegend\":true,\"type\":\"scatter\",\"x\":[2847.8533923125,1975.1430451187498,561.167968,4498.285431187499,410.3720343125,137.81532131875,2023.54103925,781.0160044124999,363.05590484999993,484.7916940562499,630.38433406875,897.9998706499999,7902.4107885625,259.3953562916667,264.97094995000003,5179.2561886250005,834.3761008125001,279.46479789375,384.2149305312501,716.77006788125,794.5230103125001,246.28174803125006,314.04132958124995,237.50404201875,530.5121700999999,635.04960900625,5299.579823624998,1936.3914383750002,365.06823808125,3042.6035070000003,259.782440975,1360.1398774687502,300.01801709374996,771.0348342533331,274.61116614375004,6496.302397062499,271.50556128125004,4869.4270436874995,1092.233630625,1192.7979534312497,2165.0908375000004,551.7106493125001,317.20409206875007,3044.081488375,421.04849634374995,811.8118405187499,410.98019376875],\"xaxis\":\"x\",\"y\":[73.61874999999999,49.01875,57.568749999999994,56.05,55.64374999999999,55.537499999999994,72.51875,54.01875,48.51250000000001,50.3875,61.581250000000004,60.75625,55.3125,60.6875,59.11250000000001,62.243750000000006,60.8625,56.0125,55.36875,57.481249999999996,48.78124999999999,57.525,62.74375,49.893750000000004,54.9375,62.8,72.7125,72.15624999999999,53.393750000000004,60.400000000000006,56.98125,51.35625000000001,59.3125,65.1625,62.56875,72.37500000000001,46.1125,57.49999999999999,53.875,61.825,51.324999999999996,64.75625,56.66250000000001,74.35625000000002,55.70625,53.90624999999999,50.48749999999999],\"yaxis\":\"y\"},{\"hovertemplate\":\"<b>%{hovertext}</b><br><br>Continent=South America<br>GDP=%{x}<br>Life_expectancy =%{y}<br>Population=%{marker.size}<extra></extra>\",\"hovertext\":[\"Argentina\",\"Brazil\",\"Chile\",\"Colombia\",\"Ecuador\",\"Guyana\",\"Paraguay\",\"Peru\",\"Suriname\",\"Uruguay\"],\"legendgroup\":\"South America\",\"marker\":{\"color\":\"#ab63fa\",\"size\":[20121204.5,88128071.25,14671763.9375,31767432.625,8710592.0625,494437.25,3299080.625,16854321.6875,190916.625,2396771.125],\"sizemode\":\"area\",\"sizeref\":168587.076375,\"symbol\":\"circle\"},\"mode\":\"markers\",\"name\":\"South America\",\"orientation\":\"v\",\"showlegend\":true,\"type\":\"scatter\",\"x\":[6998.575103125,6143.161793500001,6202.344363562499,3321.6607483124994,2005.3524679375,1783.8809370625002,1983.4043354375003,2928.5435416249998,4781.216821937499,7192.5848745],\"xaxis\":\"x\",\"y\":[75.15624999999999,73.38125,79.44999999999999,73.28750000000001,74.72500000000001,65.6375,73.1125,73.66250000000001,70.08125,76.075],\"yaxis\":\"y\"},{\"hovertemplate\":\"<b>%{hovertext}</b><br><br>Continent=Australia<br>GDP=%{x}<br>Life_expectancy =%{y}<br>Population=%{marker.size}<extra></extra>\",\"hovertext\":[\"Australia\",\"Fiji\",\"Kiribati\",\"Papua New Guinea\",\"Samoa\",\"Solomon Islands\",\"Tonga\",\"Vanuatu\"],\"legendgroup\":\"Australia\",\"marker\":{\"color\":\"#FFA15A\",\"size\":[4587009.875,650205.125,35919.9375,4813446.0,131440.125,329044.1875,26589.8125,123096.1875],\"sizemode\":\"area\",\"sizeref\":168587.076375,\"symbol\":\"circle\"},\"mode\":\"markers\",\"name\":\"Australia\",\"orientation\":\"v\",\"showlegend\":true,\"type\":\"scatter\",\"x\":[34637.565046874995,2947.6126888750005,1175.29241553125,758.0976163466668,2121.6206485000002,801.9123831749998,1981.5551861874999,2000.2455181250002],\"xaxis\":\"x\",\"y\":[81.81250000000001,68.7125,65.14999999999999,61.68125,73.61875,67.7125,72.53124999999999,71.38749999999999],\"yaxis\":\"y\"},{\"hovertemplate\":\"<b>%{hovertext}</b><br><br>Continent=North America<br>GDP=%{x}<br>Life_expectancy =%{y}<br>Population=%{marker.size}<extra></extra>\",\"hovertext\":[\"Belize\",\"Canada\",\"Costa Rica\",\"Dominican Republic\",\"El Salvador\",\"Guatemala\",\"Haiti\",\"Honduras\",\"Jamaica\",\"Mexico\",\"Nicaragua\",\"Panama\",\"Trinidad and Tobago\"],\"legendgroup\":\"North America\",\"marker\":{\"color\":\"#19d3f3\",\"size\":[170392.875,11364053.8125,2309299.4375,4448642.6875,2930826.5,5933907.5,3852657.6875,2832386.5625,1500309.125,27585265.1875,1999846.9375,1955021.875,776133.125],\"sizemode\":\"area\",\"sizeref\":168587.076375,\"symbol\":\"circle\"},\"mode\":\"markers\",\"name\":\"North America\",\"orientation\":\"v\",\"showlegend\":true,\"type\":\"scatter\",\"x\":[3933.0121744999997,29382.907523125003,3957.22728625,3509.4991863125,2517.8346304375,2365.83447375,434.36012815000004,1421.7880825000002,2509.5464696249996,5179.33080675,957.9039710624999,5417.768890249999,7741.748090062502],\"xaxis\":\"x\",\"y\":[69.26875,81.6875,78.59374999999999,72.34374999999999,71.74375,71.73125,59.868750000000006,72.99374999999999,74.29375,75.71874999999999,73.45,76.4875,71.06875],\"yaxis\":\"y\"}],                        {\"legend\":{\"itemsizing\":\"constant\",\"title\":{\"text\":\"Continent\"},\"tracegroupgap\":0},\"margin\":{\"t\":60},\"template\":{\"data\":{\"bar\":[{\"error_x\":{\"color\":\"#2a3f5f\"},\"error_y\":{\"color\":\"#2a3f5f\"},\"marker\":{\"line\":{\"color\":\"#E5ECF6\",\"width\":0.5},\"pattern\":{\"fillmode\":\"overlay\",\"size\":10,\"solidity\":0.2}},\"type\":\"bar\"}],\"barpolar\":[{\"marker\":{\"line\":{\"color\":\"#E5ECF6\",\"width\":0.5},\"pattern\":{\"fillmode\":\"overlay\",\"size\":10,\"solidity\":0.2}},\"type\":\"barpolar\"}],\"carpet\":[{\"aaxis\":{\"endlinecolor\":\"#2a3f5f\",\"gridcolor\":\"white\",\"linecolor\":\"white\",\"minorgridcolor\":\"white\",\"startlinecolor\":\"#2a3f5f\"},\"baxis\":{\"endlinecolor\":\"#2a3f5f\",\"gridcolor\":\"white\",\"linecolor\":\"white\",\"minorgridcolor\":\"white\",\"startlinecolor\":\"#2a3f5f\"},\"type\":\"carpet\"}],\"choropleth\":[{\"colorbar\":{\"outlinewidth\":0,\"ticks\":\"\"},\"type\":\"choropleth\"}],\"contour\":[{\"colorbar\":{\"outlinewidth\":0,\"ticks\":\"\"},\"colorscale\":[[0.0,\"#0d0887\"],[0.1111111111111111,\"#46039f\"],[0.2222222222222222,\"#7201a8\"],[0.3333333333333333,\"#9c179e\"],[0.4444444444444444,\"#bd3786\"],[0.5555555555555556,\"#d8576b\"],[0.6666666666666666,\"#ed7953\"],[0.7777777777777778,\"#fb9f3a\"],[0.8888888888888888,\"#fdca26\"],[1.0,\"#f0f921\"]],\"type\":\"contour\"}],\"contourcarpet\":[{\"colorbar\":{\"outlinewidth\":0,\"ticks\":\"\"},\"type\":\"contourcarpet\"}],\"heatmap\":[{\"colorbar\":{\"outlinewidth\":0,\"ticks\":\"\"},\"colorscale\":[[0.0,\"#0d0887\"],[0.1111111111111111,\"#46039f\"],[0.2222222222222222,\"#7201a8\"],[0.3333333333333333,\"#9c179e\"],[0.4444444444444444,\"#bd3786\"],[0.5555555555555556,\"#d8576b\"],[0.6666666666666666,\"#ed7953\"],[0.7777777777777778,\"#fb9f3a\"],[0.8888888888888888,\"#fdca26\"],[1.0,\"#f0f921\"]],\"type\":\"heatmap\"}],\"heatmapgl\":[{\"colorbar\":{\"outlinewidth\":0,\"ticks\":\"\"},\"colorscale\":[[0.0,\"#0d0887\"],[0.1111111111111111,\"#46039f\"],[0.2222222222222222,\"#7201a8\"],[0.3333333333333333,\"#9c179e\"],[0.4444444444444444,\"#bd3786\"],[0.5555555555555556,\"#d8576b\"],[0.6666666666666666,\"#ed7953\"],[0.7777777777777778,\"#fb9f3a\"],[0.8888888888888888,\"#fdca26\"],[1.0,\"#f0f921\"]],\"type\":\"heatmapgl\"}],\"histogram\":[{\"marker\":{\"pattern\":{\"fillmode\":\"overlay\",\"size\":10,\"solidity\":0.2}},\"type\":\"histogram\"}],\"histogram2d\":[{\"colorbar\":{\"outlinewidth\":0,\"ticks\":\"\"},\"colorscale\":[[0.0,\"#0d0887\"],[0.1111111111111111,\"#46039f\"],[0.2222222222222222,\"#7201a8\"],[0.3333333333333333,\"#9c179e\"],[0.4444444444444444,\"#bd3786\"],[0.5555555555555556,\"#d8576b\"],[0.6666666666666666,\"#ed7953\"],[0.7777777777777778,\"#fb9f3a\"],[0.8888888888888888,\"#fdca26\"],[1.0,\"#f0f921\"]],\"type\":\"histogram2d\"}],\"histogram2dcontour\":[{\"colorbar\":{\"outlinewidth\":0,\"ticks\":\"\"},\"colorscale\":[[0.0,\"#0d0887\"],[0.1111111111111111,\"#46039f\"],[0.2222222222222222,\"#7201a8\"],[0.3333333333333333,\"#9c179e\"],[0.4444444444444444,\"#bd3786\"],[0.5555555555555556,\"#d8576b\"],[0.6666666666666666,\"#ed7953\"],[0.7777777777777778,\"#fb9f3a\"],[0.8888888888888888,\"#fdca26\"],[1.0,\"#f0f921\"]],\"type\":\"histogram2dcontour\"}],\"mesh3d\":[{\"colorbar\":{\"outlinewidth\":0,\"ticks\":\"\"},\"type\":\"mesh3d\"}],\"parcoords\":[{\"line\":{\"colorbar\":{\"outlinewidth\":0,\"ticks\":\"\"}},\"type\":\"parcoords\"}],\"pie\":[{\"automargin\":true,\"type\":\"pie\"}],\"scatter\":[{\"marker\":{\"colorbar\":{\"outlinewidth\":0,\"ticks\":\"\"}},\"type\":\"scatter\"}],\"scatter3d\":[{\"line\":{\"colorbar\":{\"outlinewidth\":0,\"ticks\":\"\"}},\"marker\":{\"colorbar\":{\"outlinewidth\":0,\"ticks\":\"\"}},\"type\":\"scatter3d\"}],\"scattercarpet\":[{\"marker\":{\"colorbar\":{\"outlinewidth\":0,\"ticks\":\"\"}},\"type\":\"scattercarpet\"}],\"scattergeo\":[{\"marker\":{\"colorbar\":{\"outlinewidth\":0,\"ticks\":\"\"}},\"type\":\"scattergeo\"}],\"scattergl\":[{\"marker\":{\"colorbar\":{\"outlinewidth\":0,\"ticks\":\"\"}},\"type\":\"scattergl\"}],\"scattermapbox\":[{\"marker\":{\"colorbar\":{\"outlinewidth\":0,\"ticks\":\"\"}},\"type\":\"scattermapbox\"}],\"scatterpolar\":[{\"marker\":{\"colorbar\":{\"outlinewidth\":0,\"ticks\":\"\"}},\"type\":\"scatterpolar\"}],\"scatterpolargl\":[{\"marker\":{\"colorbar\":{\"outlinewidth\":0,\"ticks\":\"\"}},\"type\":\"scatterpolargl\"}],\"scatterternary\":[{\"marker\":{\"colorbar\":{\"outlinewidth\":0,\"ticks\":\"\"}},\"type\":\"scatterternary\"}],\"surface\":[{\"colorbar\":{\"outlinewidth\":0,\"ticks\":\"\"},\"colorscale\":[[0.0,\"#0d0887\"],[0.1111111111111111,\"#46039f\"],[0.2222222222222222,\"#7201a8\"],[0.3333333333333333,\"#9c179e\"],[0.4444444444444444,\"#bd3786\"],[0.5555555555555556,\"#d8576b\"],[0.6666666666666666,\"#ed7953\"],[0.7777777777777778,\"#fb9f3a\"],[0.8888888888888888,\"#fdca26\"],[1.0,\"#f0f921\"]],\"type\":\"surface\"}],\"table\":[{\"cells\":{\"fill\":{\"color\":\"#EBF0F8\"},\"line\":{\"color\":\"white\"}},\"header\":{\"fill\":{\"color\":\"#C8D4E3\"},\"line\":{\"color\":\"white\"}},\"type\":\"table\"}]},\"layout\":{\"annotationdefaults\":{\"arrowcolor\":\"#2a3f5f\",\"arrowhead\":0,\"arrowwidth\":1},\"autotypenumbers\":\"strict\",\"coloraxis\":{\"colorbar\":{\"outlinewidth\":0,\"ticks\":\"\"}},\"colorscale\":{\"diverging\":[[0,\"#8e0152\"],[0.1,\"#c51b7d\"],[0.2,\"#de77ae\"],[0.3,\"#f1b6da\"],[0.4,\"#fde0ef\"],[0.5,\"#f7f7f7\"],[0.6,\"#e6f5d0\"],[0.7,\"#b8e186\"],[0.8,\"#7fbc41\"],[0.9,\"#4d9221\"],[1,\"#276419\"]],\"sequential\":[[0.0,\"#0d0887\"],[0.1111111111111111,\"#46039f\"],[0.2222222222222222,\"#7201a8\"],[0.3333333333333333,\"#9c179e\"],[0.4444444444444444,\"#bd3786\"],[0.5555555555555556,\"#d8576b\"],[0.6666666666666666,\"#ed7953\"],[0.7777777777777778,\"#fb9f3a\"],[0.8888888888888888,\"#fdca26\"],[1.0,\"#f0f921\"]],\"sequentialminus\":[[0.0,\"#0d0887\"],[0.1111111111111111,\"#46039f\"],[0.2222222222222222,\"#7201a8\"],[0.3333333333333333,\"#9c179e\"],[0.4444444444444444,\"#bd3786\"],[0.5555555555555556,\"#d8576b\"],[0.6666666666666666,\"#ed7953\"],[0.7777777777777778,\"#fb9f3a\"],[0.8888888888888888,\"#fdca26\"],[1.0,\"#f0f921\"]]},\"colorway\":[\"#636efa\",\"#EF553B\",\"#00cc96\",\"#ab63fa\",\"#FFA15A\",\"#19d3f3\",\"#FF6692\",\"#B6E880\",\"#FF97FF\",\"#FECB52\"],\"font\":{\"color\":\"#2a3f5f\"},\"geo\":{\"bgcolor\":\"white\",\"lakecolor\":\"white\",\"landcolor\":\"#E5ECF6\",\"showlakes\":true,\"showland\":true,\"subunitcolor\":\"white\"},\"hoverlabel\":{\"align\":\"left\"},\"hovermode\":\"closest\",\"mapbox\":{\"style\":\"light\"},\"paper_bgcolor\":\"white\",\"plot_bgcolor\":\"#E5ECF6\",\"polar\":{\"angularaxis\":{\"gridcolor\":\"white\",\"linecolor\":\"white\",\"ticks\":\"\"},\"bgcolor\":\"#E5ECF6\",\"radialaxis\":{\"gridcolor\":\"white\",\"linecolor\":\"white\",\"ticks\":\"\"}},\"scene\":{\"xaxis\":{\"backgroundcolor\":\"#E5ECF6\",\"gridcolor\":\"white\",\"gridwidth\":2,\"linecolor\":\"white\",\"showbackground\":true,\"ticks\":\"\",\"zerolinecolor\":\"white\"},\"yaxis\":{\"backgroundcolor\":\"#E5ECF6\",\"gridcolor\":\"white\",\"gridwidth\":2,\"linecolor\":\"white\",\"showbackground\":true,\"ticks\":\"\",\"zerolinecolor\":\"white\"},\"zaxis\":{\"backgroundcolor\":\"#E5ECF6\",\"gridcolor\":\"white\",\"gridwidth\":2,\"linecolor\":\"white\",\"showbackground\":true,\"ticks\":\"\",\"zerolinecolor\":\"white\"}},\"shapedefaults\":{\"line\":{\"color\":\"#2a3f5f\"}},\"ternary\":{\"aaxis\":{\"gridcolor\":\"white\",\"linecolor\":\"white\",\"ticks\":\"\"},\"baxis\":{\"gridcolor\":\"white\",\"linecolor\":\"white\",\"ticks\":\"\"},\"bgcolor\":\"#E5ECF6\",\"caxis\":{\"gridcolor\":\"white\",\"linecolor\":\"white\",\"ticks\":\"\"}},\"title\":{\"x\":0.05},\"xaxis\":{\"automargin\":true,\"gridcolor\":\"white\",\"linecolor\":\"white\",\"ticks\":\"\",\"title\":{\"standoff\":15},\"zerolinecolor\":\"white\",\"zerolinewidth\":2},\"yaxis\":{\"automargin\":true,\"gridcolor\":\"white\",\"linecolor\":\"white\",\"ticks\":\"\",\"title\":{\"standoff\":15},\"zerolinecolor\":\"white\",\"zerolinewidth\":2}}},\"xaxis\":{\"anchor\":\"y\",\"domain\":[0.0,1.0],\"title\":{\"text\":\"GDP\"},\"type\":\"log\"},\"yaxis\":{\"anchor\":\"x\",\"domain\":[0.0,1.0],\"title\":{\"text\":\"Life_expectancy \"}}},                        {\"responsive\": true}                    ).then(function(){\n",
       "                            \n",
       "var gd = document.getElementById('a3c14b47-1397-4f83-a931-876ea3f82770');\n",
       "var x = new MutationObserver(function (mutations, observer) {{\n",
       "        var display = window.getComputedStyle(gd).display;\n",
       "        if (!display || display === 'none') {{\n",
       "            console.log([gd, 'removed!']);\n",
       "            Plotly.purge(gd);\n",
       "            observer.disconnect();\n",
       "        }}\n",
       "}});\n",
       "\n",
       "// Listen for the removal of the full notebook cells\n",
       "var notebookContainer = gd.closest('#notebook-container');\n",
       "if (notebookContainer) {{\n",
       "    x.observe(notebookContainer, {childList: true});\n",
       "}}\n",
       "\n",
       "// Listen for the clearing of the current output cell\n",
       "var outputEl = gd.closest('.output');\n",
       "if (outputEl) {{\n",
       "    x.observe(outputEl, {childList: true});\n",
       "}}\n",
       "\n",
       "                        })                };                });            </script>        </div>"
      ]
     },
     "metadata": {},
     "output_type": "display_data"
    }
   ],
   "source": [
    "# make a dictionary of different continent codes\n",
    "continents = {\n",
    "    'NA': 'North America',\n",
    "    'SA': 'South America', \n",
    "    'AS': 'Asia',\n",
    "    'OC': 'Australia',\n",
    "    'AF': 'Africa',\n",
    "    'EU': 'Europe'\n",
    "}\n",
    "\n",
    "continent = []\n",
    "for country in bubble.index:\n",
    "    try:\n",
    "        # translate all country names into continent codes, then find the appropriate continent name from our continents dict,\n",
    "        # then append this name to our empty continent list\n",
    "        continent.append(continents[country_alpha2_to_continent_code(country_name_to_country_alpha2(country))])\n",
    "    except:\n",
    "        continent.append('Africa')\n",
    "\n",
    "# add this continent list to our data frame\n",
    "bubble['Continent'] = continent\n",
    "\n",
    "#category_bubble = data[['Country','GDP','Population','Life_expectancy ','Continent']]\n",
    "#category_bubble.dropna(inplace = True)\n",
    "\n",
    "fig = px.scatter(bubble, x=\"GDP\", y=\"Life_expectancy \", size=\"Population\", color='Continent', \n",
    "                 hover_name=bubble.index, log_x=True, size_max=50)\n",
    "fig.show()"
   ]
  },
  {
   "cell_type": "code",
   "execution_count": 141,
   "metadata": {},
   "outputs": [
    {
     "data": {
      "text/plain": [
       "<AxesSubplot:>"
      ]
     },
     "execution_count": 141,
     "metadata": {},
     "output_type": "execute_result"
    },
    {
     "data": {
      "image/png": "[encoded data removed]",
      "text/plain": [
       "<Figure size 864x864 with 2 Axes>"
      ]
     },
     "metadata": {
      "needs_background": "light"
     },
     "output_type": "display_data"
    }
   ],
   "source": [
    "plt.figure(figsize=(12,12))\n",
    "sb.heatmap(data.corr(), center=0, cmap='PiYG')"
   ]
  },
  {
   "cell_type": "code",
   "execution_count": 63,
   "metadata": {},
   "outputs": [
    {
     "data": {
      "text/plain": [
       "Schooling                          0.751975\n",
       "Income composition of resources    0.724776\n",
       " BMI                               0.567694\n",
       "Diphtheria                         0.479495\n",
       "Polio                              0.465556\n",
       "GDP                                0.461455\n",
       "Alcohol                            0.404877\n",
       "percentage expenditure             0.381864\n",
       "Hepatitis B                        0.256762\n",
       "Total expenditure                  0.218086\n",
       "Population                        -0.021538\n",
       "Measles                           -0.157586\n",
       "infant deaths                     -0.196557\n",
       "under-five deaths                 -0.222529\n",
       " thinness 5-9 years               -0.471584\n",
       " thinness  1-19 years             -0.477183\n",
       " HIV/AIDS                         -0.556556\n",
       "Adult Mortality                   -0.696359\n",
       "Name: Life_expectancy , dtype: float64"
      ]
     },
     "execution_count": 63,
     "metadata": {},
     "output_type": "execute_result"
    }
   ],
   "source": [
    "correlation_to_life_expect = data.corr()['Life_expectancy '][2:].sort_values(ascending=[False])\n",
    "correlation_to_life_expect"
   ]
  },
  {
   "cell_type": "code",
   "execution_count": 65,
   "metadata": {},
   "outputs": [
    {
     "data": {
      "text/plain": [
       "percentage expenditure             0.899373\n",
       "Life_expectancy                    0.461455\n",
       "Income composition of resources    0.460341\n",
       "Schooling                          0.448273\n",
       "Alcohol                            0.354712\n",
       " BMI                               0.301557\n",
       "Polio                              0.211976\n",
       "Diphtheria                         0.200666\n",
       "Total expenditure                  0.138364\n",
       "Year                               0.101620\n",
       "Hepatitis B                        0.083903\n",
       "Population                        -0.028270\n",
       "Measles                           -0.076466\n",
       "infant deaths                     -0.108427\n",
       "under-five deaths                 -0.112081\n",
       " HIV/AIDS                         -0.136491\n",
       " thinness  1-19 years             -0.285697\n",
       " thinness 5-9 years               -0.290539\n",
       "Adult Mortality                   -0.296049\n",
       "Name: GDP, dtype: float64"
      ]
     },
     "execution_count": 65,
     "metadata": {},
     "output_type": "execute_result"
    }
   ],
   "source": [
    "correlation_to_GDP = data.corr()['GDP'][:].sort_values(ascending=[False])\n",
    "correlation_to_GDP[1:]"
   ]
  },
  {
   "cell_type": "code",
   "execution_count": 135,
   "metadata": {},
   "outputs": [
    {
     "data": {
      "text/plain": [
       "<AxesSubplot:xlabel='Life_expectancy ', ylabel='Count'>"
      ]
     },
     "execution_count": 135,
     "metadata": {},
     "output_type": "execute_result"
    },
    {
     "data": {
      "image/png": "[encoded data removed]",
      "text/plain": [
       "<Figure size 1080x360 with 1 Axes>"
      ]
     },
     "metadata": {
      "needs_background": "light"
     },
     "output_type": "display_data"
    }
   ],
   "source": [
    "plt.figure(figsize=(15,5))\n",
    "sb.histplot(bubble['Life_expectancy '].dropna(), color='red', kde=True)\n",
    "# computes a kernel density estimate to smooth the distribution and plots on top"
   ]
  },
  {
   "cell_type": "code",
   "execution_count": 139,
   "metadata": {},
   "outputs": [
    {
     "data": {
      "image/png": "[encoded data removed]",
      "text/plain": [
       "<Figure size 432x432 with 1 Axes>"
      ]
     },
     "metadata": {},
     "output_type": "display_data"
    }
   ],
   "source": [
    "LE = bubble['Life_expectancy '].dropna().values\n",
    "\n",
    "age_ranges = pd.Series({\n",
    "    '40-50':len([count for count in LE if count <50]),\n",
    "    '50-60':len([count for count in LE if count <60 and count >=50]),\n",
    "    '60-70':len([count for count in LE if count <70 and count >=60]),\n",
    "    '70-80':len([count for count in LE if count <80 and count >=70]),\n",
    "    '80+':len([count for count in LE if count >=80])\n",
    "})\n",
    "\n",
    "perc = [str(round(num*100/age_ranges.values.sum(),2))+' %' for num in age_ranges.values]\n",
    "\n",
    "plt.figure(figsize=(6,6))\n",
    "plt.pie(age_ranges, labels=perc)\n",
    "plt.legend(labels=age_ranges.index, loc='center left')\n",
    "plt.title('Age ranges of life expectancies')\n",
    "plt.show()"
   ]
  },
  {
   "cell_type": "code",
   "execution_count": null,
   "metadata": {},
   "outputs": [],
   "source": []
  }
 ],
 "metadata": {
  "kernelspec": {
   "display_name": "Python 3",
   "language": "python",
   "name": "python3"
  },
  "language_info": {
   "codemirror_mode": {
    "name": "ipython",
    "version": 3
   },
   "file_extension": ".py",
   "mimetype": "text/x-python",
   "name": "python",
   "nbconvert_exporter": "python",
   "pygments_lexer": "ipython3",
   "version": "3.8.3"
  }
 },
 "nbformat": 4,
 "nbformat_minor": 5
}
